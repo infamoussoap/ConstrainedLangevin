{
 "cells": [
  {
   "cell_type": "code",
   "execution_count": 49,
   "id": "d76ed821",
   "metadata": {},
   "outputs": [],
   "source": [
    "import numpy as np\n",
    "import torch\n",
    "import matplotlib.pyplot as plt\n",
    "\n",
    "import scipy\n",
    "from scipy.spatial import HalfspaceIntersection\n",
    "from scipy.spatial import ConvexHull\n",
    "\n",
    "from scipy.stats import truncnorm\n",
    "\n",
    "import arviz\n",
    "\n",
    "from DikinSamplers import RandomWalk, Langevin, DikinLangevin\n",
    "\n",
    "import sklearn"
   ]
  },
  {
   "cell_type": "code",
   "execution_count": 114,
   "id": "a2103a2e",
   "metadata": {},
   "outputs": [],
   "source": [
    "NUM_TRIALS = 200"
   ]
  },
  {
   "cell_type": "code",
   "execution_count": 115,
   "id": "e9144d28",
   "metadata": {},
   "outputs": [],
   "source": [
    "tol = 1e-3"
   ]
  },
  {
   "cell_type": "code",
   "execution_count": 118,
   "id": "9f4622d5",
   "metadata": {},
   "outputs": [],
   "source": [
    "dikinlangevin_results = [np.load(f\"new_multimodal_results/dikinlangevin_trial_{i}.npy\")[:, :, None] \n",
    "                         for i in range(NUM_TRIALS)]\n",
    "dikinlangevin_results = np.concatenate(dikinlangevin_results, axis=-1).transpose(2, 0, 1)"
   ]
  },
  {
   "cell_type": "code",
   "execution_count": 119,
   "id": "3d1f8216",
   "metadata": {
    "scrolled": true
   },
   "outputs": [
    {
     "data": {
      "text/plain": [
       "np.float64(1.43)"
      ]
     },
     "execution_count": 119,
     "metadata": {},
     "output_type": "execute_result"
    }
   ],
   "source": [
    "dikinlangevin_num_transitions = []\n",
    "dikinlangevin_positive_well = []\n",
    "for i in range(NUM_TRIALS):\n",
    "    history = dikinlangevin_results[i, :, :]\n",
    "    \n",
    "    all_positive = (history > tol).all(axis=-1).astype(int)\n",
    "    all_negative = (history < -tol).all(axis=-1).astype(int)\n",
    "    \n",
    "    labels = all_positive - all_negative\n",
    "    switches = labels[labels != 0]\n",
    "    num_switches = np.sum(switches[1:] != switches[:-1])\n",
    "    dikinlangevin_num_transitions.append(num_switches)\n",
    "    dikinlangevin_positive_well.append((switches > 0).mean())\n",
    "    \n",
    "np.mean(dikinlangevin_num_transitions)"
   ]
  },
  {
   "cell_type": "code",
   "execution_count": 120,
   "id": "2948d2a5",
   "metadata": {},
   "outputs": [
    {
     "data": {
      "text/plain": [
       "np.float64(0.5094586634959181)"
      ]
     },
     "execution_count": 120,
     "metadata": {},
     "output_type": "execute_result"
    }
   ],
   "source": [
    "np.median(dikinlangevin_positive_well)"
   ]
  },
  {
   "cell_type": "code",
   "execution_count": 121,
   "id": "7b3164c1",
   "metadata": {},
   "outputs": [],
   "source": [
    "np.savetxt(\"dikinlangevin_num_transitions.csv\", dikinlangevin_num_transitions, delimiter=\",\")"
   ]
  },
  {
   "cell_type": "code",
   "execution_count": 122,
   "id": "dd4a0dd1",
   "metadata": {},
   "outputs": [
    {
     "data": {
      "text/plain": [
       "np.float64(1.0)"
      ]
     },
     "execution_count": 122,
     "metadata": {},
     "output_type": "execute_result"
    }
   ],
   "source": [
    "np.median(dikinlangevin_num_transitions)"
   ]
  },
  {
   "cell_type": "code",
   "execution_count": null,
   "id": "775ccfe8",
   "metadata": {},
   "outputs": [],
   "source": []
  },
  {
   "cell_type": "code",
   "execution_count": null,
   "id": "192e2e15",
   "metadata": {},
   "outputs": [],
   "source": []
  },
  {
   "cell_type": "code",
   "execution_count": 123,
   "id": "32f587f5",
   "metadata": {},
   "outputs": [],
   "source": [
    "randomwalk_results = [np.load(f\"new_multimodal_results/randomwalk_trial_{i}.npy\")[:, :, None] \n",
    "                         for i in range(NUM_TRIALS)]\n",
    "randomwalk_results = np.concatenate(randomwalk_results, axis=-1).transpose(2, 0, 1)"
   ]
  },
  {
   "cell_type": "code",
   "execution_count": 124,
   "id": "dcfd6c28",
   "metadata": {
    "scrolled": true
   },
   "outputs": [
    {
     "data": {
      "text/plain": [
       "np.float64(1.065)"
      ]
     },
     "execution_count": 124,
     "metadata": {},
     "output_type": "execute_result"
    }
   ],
   "source": [
    "randomwalk_num_transitions = []\n",
    "randomwalk_positive_well = []\n",
    "for i in range(NUM_TRIALS):\n",
    "    history = randomwalk_results[i, :, :]\n",
    "    \n",
    "    all_positive = (history > tol).all(axis=-1).astype(int)\n",
    "    all_negative = (history < -tol).all(axis=-1).astype(int)\n",
    "    \n",
    "    labels = all_positive - all_negative\n",
    "    switches = labels[labels != 0]\n",
    "    num_switches = np.sum(switches[1:] != switches[:-1])\n",
    "    \n",
    "    randomwalk_num_transitions.append(num_switches)\n",
    "    randomwalk_positive_well.append((switches > 0).mean())\n",
    "    \n",
    "np.mean(randomwalk_num_transitions)"
   ]
  },
  {
   "cell_type": "code",
   "execution_count": 125,
   "id": "2041c9d8",
   "metadata": {},
   "outputs": [
    {
     "data": {
      "text/plain": [
       "np.float64(0.5183187577342612)"
      ]
     },
     "execution_count": 125,
     "metadata": {},
     "output_type": "execute_result"
    }
   ],
   "source": [
    "np.median(randomwalk_positive_well)"
   ]
  },
  {
   "cell_type": "code",
   "execution_count": 126,
   "id": "5306ab16",
   "metadata": {},
   "outputs": [],
   "source": [
    "np.savetxt(\"randomwalk_num_transitions.csv\", randomwalk_num_transitions, delimiter=\",\")"
   ]
  },
  {
   "cell_type": "code",
   "execution_count": 127,
   "id": "44afe8d9",
   "metadata": {
    "scrolled": true
   },
   "outputs": [
    {
     "data": {
      "text/plain": [
       "np.float64(1.0)"
      ]
     },
     "execution_count": 127,
     "metadata": {},
     "output_type": "execute_result"
    }
   ],
   "source": [
    "np.median(randomwalk_num_transitions)"
   ]
  },
  {
   "cell_type": "code",
   "execution_count": 128,
   "id": "00d17cee",
   "metadata": {},
   "outputs": [
    {
     "data": {
      "text/plain": [
       "np.int64(6)"
      ]
     },
     "execution_count": 128,
     "metadata": {},
     "output_type": "execute_result"
    }
   ],
   "source": [
    "max(randomwalk_num_transitions)"
   ]
  },
  {
   "cell_type": "code",
   "execution_count": 129,
   "id": "671fdd7e",
   "metadata": {},
   "outputs": [
    {
     "data": {
      "text/plain": [
       "np.int64(7)"
      ]
     },
     "execution_count": 129,
     "metadata": {},
     "output_type": "execute_result"
    }
   ],
   "source": [
    "max(dikinlangevin_num_transitions)"
   ]
  },
  {
   "cell_type": "code",
   "execution_count": 130,
   "id": "669eb2a5",
   "metadata": {},
   "outputs": [
    {
     "data": {
      "image/png": "[encoded data removed]",
      "text/plain": [
       "<Figure size 640x480 with 1 Axes>"
      ]
     },
     "metadata": {},
     "output_type": "display_data"
    }
   ],
   "source": [
    "plt.hist(randomwalk_num_transitions, bins=15);\n",
    "plt.hist(dikinlangevin_num_transitions, alpha=0.5, bins=15);"
   ]
  },
  {
   "cell_type": "code",
   "execution_count": 131,
   "id": "bb3515bc",
   "metadata": {},
   "outputs": [
    {
     "data": {
      "text/plain": [
       "np.float64(0.235)"
      ]
     },
     "execution_count": 131,
     "metadata": {},
     "output_type": "execute_result"
    }
   ],
   "source": [
    "(np.array(dikinlangevin_num_transitions) == 0).mean()"
   ]
  },
  {
   "cell_type": "code",
   "execution_count": 132,
   "id": "b05c715c",
   "metadata": {},
   "outputs": [
    {
     "data": {
      "text/plain": [
       "np.float64(0.32)"
      ]
     },
     "execution_count": 132,
     "metadata": {},
     "output_type": "execute_result"
    }
   ],
   "source": [
    "(np.array(randomwalk_num_transitions) == 0).mean()"
   ]
  },
  {
   "cell_type": "code",
   "execution_count": null,
   "id": "92174025",
   "metadata": {},
   "outputs": [],
   "source": []
  }
 ],
 "metadata": {
  "kernelspec": {
   "display_name": "Python 3 (ipykernel)",
   "language": "python",
   "name": "python3"
  },
  "language_info": {
   "codemirror_mode": {
    "name": "ipython",
    "version": 3
   },
   "file_extension": ".py",
   "mimetype": "text/x-python",
   "name": "python",
   "nbconvert_exporter": "python",
   "pygments_lexer": "ipython3",
   "version": "3.10.6"
  }
 },
 "nbformat": 4,
 "nbformat_minor": 5
}
