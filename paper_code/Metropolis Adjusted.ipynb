{
 "cells": [
  {
   "cell_type": "code",
   "execution_count": 4,
   "id": "8024cda5",
   "metadata": {},
   "outputs": [],
   "source": [
    "import numpy as np\n",
    "import torch\n",
    "import matplotlib.pyplot as plt\n",
    "\n",
    "import scipy\n",
    "from scipy.spatial import HalfspaceIntersection\n",
    "from scipy.spatial import ConvexHull\n",
    "\n",
    "from scipy.stats import truncnorm\n",
    "\n",
    "import arviz\n",
    "\n",
    "from DikinSamplers import RandomWalk, Langevin, DikinLangevin"
   ]
  },
  {
   "cell_type": "code",
   "execution_count": 38,
   "id": "d8329980",
   "metadata": {},
   "outputs": [],
   "source": [
    "NUM_TRIALS = 200\n",
    "NUM_SAMPLES = 50_000"
   ]
  },
  {
   "cell_type": "code",
   "execution_count": 6,
   "id": "949416c8",
   "metadata": {},
   "outputs": [],
   "source": [
    "dikinlangevin_results = [np.load(f\"metropolis_results/dikinlangevin_trial_{i}.npy\")[:, :, None] \n",
    "                         for i in range(NUM_TRIALS)]\n",
    "dikinlangevin_results = np.concatenate(dikinlangevin_results, axis=-1)\n",
    "dikinlangevin_results = dikinlangevin_results.transpose(2, 0, 1)"
   ]
  },
  {
   "cell_type": "code",
   "execution_count": 25,
   "id": "48e37964",
   "metadata": {},
   "outputs": [],
   "source": [
    "out = (np.linalg.norm(dikinlangevin_results, axis=-1) ** 2).T.cumsum(axis=0)\n",
    "out = out / np.arange(1, len(out) + 1)[:, None]\n",
    "np.savetxt(\"dikinlanvegin_cummean_norm.csv\", out, delimiter=\",\")"
   ]
  },
  {
   "cell_type": "code",
   "execution_count": null,
   "id": "0c6a481d",
   "metadata": {},
   "outputs": [],
   "source": []
  },
  {
   "cell_type": "code",
   "execution_count": 62,
   "id": "116b9a49",
   "metadata": {},
   "outputs": [],
   "source": [
    "dikinlangevin_rhat_vals = [arviz.rhat(dikinlangevin_results[:, -NUM_SAMPLES:, i]) for i in range(10)]"
   ]
  },
  {
   "cell_type": "code",
   "execution_count": 45,
   "id": "9370ad60",
   "metadata": {},
   "outputs": [
    {
     "data": {
      "text/plain": [
       "(np.float64(14375.464967078622), np.float64(2426854.7818426476))"
      ]
     },
     "execution_count": 45,
     "metadata": {},
     "output_type": "execute_result"
    }
   ],
   "source": [
    "ess_vals = [arviz.ess(dikinlangevin_results[:, -NUM_SAMPLES:, i]) for i in range(10)]\n",
    "min(ess_vals), max(ess_vals)"
   ]
  },
  {
   "cell_type": "code",
   "execution_count": null,
   "id": "022e7867",
   "metadata": {},
   "outputs": [],
   "source": []
  },
  {
   "cell_type": "code",
   "execution_count": 41,
   "id": "539404c5",
   "metadata": {},
   "outputs": [],
   "source": [
    "randomwalk_results = [np.load(f\"metropolis_results/randomwalk_trial_{i}.npy\")[:, :, None] \n",
    "                      for i in range(NUM_TRIALS)]\n",
    "randomwalk_results = np.concatenate(randomwalk_results, axis=-1)\n",
    "randomwalk_results = randomwalk_results.transpose(2, 0, 1)"
   ]
  },
  {
   "cell_type": "code",
   "execution_count": 21,
   "id": "3b272e14",
   "metadata": {},
   "outputs": [],
   "source": [
    "out = (np.linalg.norm(randomwalk_results, axis=-1) ** 2).T.cumsum(axis=0)\n",
    "out = out / np.arange(1, len(out) + 1)[:, None]\n",
    "np.savetxt(\"randomwalk_cummean_norm.csv\", out, delimiter=\",\")"
   ]
  },
  {
   "cell_type": "code",
   "execution_count": 698,
   "id": "2354200a",
   "metadata": {},
   "outputs": [
    {
     "data": {
      "text/plain": [
       "(100000, 200)"
      ]
     },
     "execution_count": 698,
     "metadata": {},
     "output_type": "execute_result"
    }
   ],
   "source": [
    "out.shape"
   ]
  },
  {
   "cell_type": "code",
   "execution_count": 63,
   "id": "ffd7f394",
   "metadata": {},
   "outputs": [],
   "source": [
    "randomwalk_rhat_vals = [arviz.rhat(randomwalk_results[:, -NUM_SAMPLES:, i]) for i in range(10)]"
   ]
  },
  {
   "cell_type": "code",
   "execution_count": 46,
   "id": "a3556f92",
   "metadata": {},
   "outputs": [
    {
     "data": {
      "text/plain": [
       "(np.float64(3357.839134189303), np.float64(491638.79654931155))"
      ]
     },
     "execution_count": 46,
     "metadata": {},
     "output_type": "execute_result"
    }
   ],
   "source": [
    "ess_vals = [arviz.ess(randomwalk_results[:, -NUM_SAMPLES:, i]) for i in range(10)]\n",
    "min(ess_vals), max(ess_vals)"
   ]
  },
  {
   "cell_type": "code",
   "execution_count": null,
   "id": "4c403390",
   "metadata": {},
   "outputs": [],
   "source": []
  },
  {
   "cell_type": "code",
   "execution_count": 18,
   "id": "dfbb4cb3",
   "metadata": {},
   "outputs": [],
   "source": [
    "langevin_results = [np.load(f\"metropolis_results/langevin_trial_{i}.npy\")[:, :, None] \n",
    "                      for i in range(NUM_TRIALS)]\n",
    "langevin_results = np.concatenate(langevin_results, axis=-1)\n",
    "langevin_results = langevin_results.transpose(2, 0, 1)"
   ]
  },
  {
   "cell_type": "code",
   "execution_count": 20,
   "id": "679dadb8",
   "metadata": {},
   "outputs": [],
   "source": [
    "out = (np.linalg.norm(langevin_results, axis=-1) ** 2).T.cumsum(axis=0)\n",
    "out = out / np.arange(1, len(out) + 1)[:, None]\n",
    "np.savetxt(\"langevin_cummean_norm.csv\", out, delimiter=\",\")"
   ]
  },
  {
   "cell_type": "code",
   "execution_count": 64,
   "id": "963b926b",
   "metadata": {},
   "outputs": [],
   "source": [
    "langevin_rhat_vals = [arviz.rhat(langevin_results[:, -NUM_SAMPLES:, i]) for i in range(10)]"
   ]
  },
  {
   "cell_type": "code",
   "execution_count": null,
   "id": "24d2a706",
   "metadata": {},
   "outputs": [],
   "source": []
  },
  {
   "cell_type": "code",
   "execution_count": 71,
   "id": "45da854a",
   "metadata": {},
   "outputs": [
    {
     "data": {
      "text/plain": [
       "[array([1.00203676, 1.00896266, 1.01312861]), np.float64(0.1)]"
      ]
     },
     "execution_count": 71,
     "metadata": {},
     "output_type": "execute_result"
    }
   ],
   "source": [
    "out = np.array(dikinlangevin_rhat_vals)\n",
    "[np.quantile(out, [0.5, 0.9, 1]), np.mean(out > 1.01)]"
   ]
  },
  {
   "cell_type": "code",
   "execution_count": 72,
   "id": "4579f4c2",
   "metadata": {},
   "outputs": [
    {
     "data": {
      "text/plain": [
       "[array([1.00637631, 1.0251682 , 1.04024002]), np.float64(0.4)]"
      ]
     },
     "execution_count": 72,
     "metadata": {},
     "output_type": "execute_result"
    }
   ],
   "source": [
    "out = np.array(randomwalk_rhat_vals)\n",
    "[np.quantile(out, [0.5, 0.9, 1]), np.mean(out > 1.01)]"
   ]
  },
  {
   "cell_type": "code",
   "execution_count": 73,
   "id": "4113851a",
   "metadata": {},
   "outputs": [
    {
     "data": {
      "text/plain": [
       "[array([1.05963624, 3.5726744 , 4.00723841]), np.float64(0.6)]"
      ]
     },
     "execution_count": 73,
     "metadata": {},
     "output_type": "execute_result"
    }
   ],
   "source": [
    "out = np.array(langevin_rhat_vals)\n",
    "[np.quantile(out, [0.5, 0.9, 1]), np.mean(out > 1.01)]"
   ]
  },
  {
   "cell_type": "code",
   "execution_count": null,
   "id": "d0334e4c",
   "metadata": {},
   "outputs": [],
   "source": []
  },
  {
   "cell_type": "code",
   "execution_count": 51,
   "id": "515fd247",
   "metadata": {},
   "outputs": [
    {
     "data": {
      "text/plain": [
       "np.float64(1.7428323363638025)"
      ]
     },
     "execution_count": 51,
     "metadata": {},
     "output_type": "execute_result"
    }
   ],
   "source": [
    "np.mean(rhat_vals)"
   ]
  },
  {
   "cell_type": "code",
   "execution_count": 47,
   "id": "c2e20f02",
   "metadata": {
    "scrolled": true
   },
   "outputs": [
    {
     "data": {
      "text/plain": [
       "(np.float64(213.9045453632898), np.float64(7336185.315303067))"
      ]
     },
     "execution_count": 47,
     "metadata": {},
     "output_type": "execute_result"
    }
   ],
   "source": [
    "ess_vals = [arviz.ess(langevin_results[:, -NUM_SAMPLES:, i]) for i in range(10)]\n",
    "min(ess_vals), max(ess_vals)"
   ]
  },
  {
   "cell_type": "code",
   "execution_count": null,
   "id": "dba10531",
   "metadata": {},
   "outputs": [],
   "source": []
  }
 ],
 "metadata": {
  "kernelspec": {
   "display_name": "Python 3 (ipykernel)",
   "language": "python",
   "name": "python3"
  },
  "language_info": {
   "codemirror_mode": {
    "name": "ipython",
    "version": 3
   },
   "file_extension": ".py",
   "mimetype": "text/x-python",
   "name": "python",
   "nbconvert_exporter": "python",
   "pygments_lexer": "ipython3",
   "version": "3.10.6"
  }
 },
 "nbformat": 4,
 "nbformat_minor": 5
}
