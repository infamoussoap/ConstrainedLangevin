{
 "cells": [
  {
   "cell_type": "code",
   "execution_count": 30,
   "id": "8c9bfeb1",
   "metadata": {},
   "outputs": [],
   "source": [
    "import numpy as np\n",
    "import torch\n",
    "import matplotlib.pyplot as plt"
   ]
  },
  {
   "cell_type": "code",
   "execution_count": 2,
   "id": "ffe7b1bd",
   "metadata": {},
   "outputs": [],
   "source": [
    "dtype = torch.float32"
   ]
  },
  {
   "cell_type": "code",
   "execution_count": 3,
   "id": "214dc3ac",
   "metadata": {},
   "outputs": [],
   "source": [
    "cost = lambda x: torch.linalg.norm(x, axis=-1) ** 2"
   ]
  },
  {
   "cell_type": "code",
   "execution_count": 84,
   "id": "8ebffafc",
   "metadata": {},
   "outputs": [],
   "source": [
    "n1 = 5\n",
    "Q1 = np.array([\n",
    "    [8, 2, 3, 4, 5],\n",
    "    [2, 7, 2, 3, 4],\n",
    "    [3, 2, 6, 2, 3],\n",
    "    [4, 3, 2, 5, 2],\n",
    "    [5, 4, 3, 2, 9]\n",
    "])\n",
    "weights1 = np.array([2, 3, 4, 5, 9])\n",
    "capacity1 = 10\n",
    "\n",
    "Q = torch.tensor(Q1, dtype=dtype)\n",
    "weights = torch.tensor(weights1, dtype=dtype)\n",
    "capacity = capacity1\n",
    "dim = n1\n",
    "\n",
    "weights_torch = weights / capacity"
   ]
  },
  {
   "cell_type": "code",
   "execution_count": 85,
   "id": "4d000b6b",
   "metadata": {},
   "outputs": [],
   "source": [
    "potential = lambda x: -torch.einsum('ni,ij,nj->n', x, Q, x)\n",
    "isvalid = lambda x: (x @ weights_torch <= 1)\n",
    "\n",
    "def cost(x, w):\n",
    "    vals = potential(x) - (torch.log(x) + torch.log(1 - x)).sum(axis=-1) - torch.log(1 - x @ weights_torch)\n",
    "    return vals"
   ]
  },
  {
   "cell_type": "code",
   "execution_count": 90,
   "id": "e1ff80c2",
   "metadata": {},
   "outputs": [],
   "source": [
    "w = 200"
   ]
  },
  {
   "cell_type": "code",
   "execution_count": 95,
   "id": "a6a3b544",
   "metadata": {},
   "outputs": [],
   "source": [
    "particles = torch.rand(10, dim, requires_grad=True, dtype=dtype) * 0.1"
   ]
  },
  {
   "cell_type": "code",
   "execution_count": 96,
   "id": "8b156ac4",
   "metadata": {},
   "outputs": [],
   "source": [
    "h = 1\n",
    "lr = 0.1"
   ]
  },
  {
   "cell_type": "code",
   "execution_count": 99,
   "id": "92964326",
   "metadata": {},
   "outputs": [
    {
     "data": {
      "text/plain": [
       "tensor([[0.0407, 0.0559, 0.0347, 0.0914, 0.0326],\n",
       "        [0.0622, 0.0448, 0.0166, 0.0009, 0.0307],\n",
       "        [0.0002, 0.0551, 0.0315, 0.0774, 0.0355],\n",
       "        [0.0407, 0.0661, 0.0229, 0.0195, 0.0166],\n",
       "        [0.0067, 0.0581, 0.0268, 0.0439, 0.0866],\n",
       "        [0.0845, 0.0443, 0.0943, 0.0920, 0.0811],\n",
       "        [0.0203, 0.0130, 0.0747, 0.0437, 0.0743],\n",
       "        [0.0527, 0.0527, 0.0597, 0.0497, 0.0125],\n",
       "        [0.0171, 0.0826, 0.0708, 0.0612, 0.0716],\n",
       "        [0.0377, 0.0092, 0.0082, 0.0212, 0.0986]], grad_fn=<MulBackward0>)"
      ]
     },
     "execution_count": 99,
     "metadata": {},
     "output_type": "execute_result"
    }
   ],
   "source": [
    "particles"
   ]
  },
  {
   "cell_type": "code",
   "execution_count": 97,
   "id": "dfd3f272",
   "metadata": {},
   "outputs": [
    {
     "name": "stderr",
     "output_type": "stream",
     "text": [
      "/var/folders/99/5f_qszrn5y132sfcdd12k2f80000gn/T/ipykernel_16263/265171241.py:5: UserWarning: The .grad attribute of a Tensor that is not a leaf Tensor is being accessed. Its .grad attribute won't be populated during autograd.backward(). If you indeed want the .grad field to be populated for a non-leaf Tensor, use .retain_grad() on the non-leaf Tensor. If you access the non-leaf Tensor by mistake, make sure you access the leaf Tensor instead. See github.com/pytorch/pytorch/pull/30531 for more informations. (Triggered internally at /Users/runner/work/pytorch/pytorch/pytorch/build/aten/src/ATen/core/TensorBody.h:494.)\n",
      "  grad = -particles.grad\n"
     ]
    },
    {
     "ename": "TypeError",
     "evalue": "bad operand type for unary -: 'NoneType'",
     "output_type": "error",
     "traceback": [
      "\u001b[0;31m---------------------------------------------------------------------------\u001b[0m",
      "\u001b[0;31mTypeError\u001b[0m                                 Traceback (most recent call last)",
      "Cell \u001b[0;32mIn [97], line 5\u001b[0m\n\u001b[1;32m      2\u001b[0m val \u001b[38;5;241m=\u001b[39m cost(particles, w)\u001b[38;5;241m.\u001b[39msum()\n\u001b[1;32m      3\u001b[0m val\u001b[38;5;241m.\u001b[39mbackward()\n\u001b[0;32m----> 5\u001b[0m grad \u001b[38;5;241m=\u001b[39m \u001b[38;5;241;43m-\u001b[39;49m\u001b[43mparticles\u001b[49m\u001b[38;5;241;43m.\u001b[39;49m\u001b[43mgrad\u001b[49m\n\u001b[1;32m      7\u001b[0m \u001b[38;5;28;01mwith\u001b[39;00m torch\u001b[38;5;241m.\u001b[39mno_grad():\n\u001b[1;32m      8\u001b[0m     K \u001b[38;5;241m=\u001b[39m torch\u001b[38;5;241m.\u001b[39mexp(\u001b[38;5;241m-\u001b[39m(\u001b[38;5;241m1\u001b[39m \u001b[38;5;241m/\u001b[39m h) \u001b[38;5;241m*\u001b[39m torch\u001b[38;5;241m.\u001b[39mlinalg\u001b[38;5;241m.\u001b[39mnorm(particles[:, :, \u001b[38;5;28;01mNone\u001b[39;00m] \u001b[38;5;241m-\u001b[39m particles\u001b[38;5;241m.\u001b[39mT[\u001b[38;5;28;01mNone\u001b[39;00m, :, :], axis\u001b[38;5;241m=\u001b[39m\u001b[38;5;241m1\u001b[39m) \u001b[38;5;241m*\u001b[39m\u001b[38;5;241m*\u001b[39m \u001b[38;5;241m2\u001b[39m)\n",
      "\u001b[0;31mTypeError\u001b[0m: bad operand type for unary -: 'NoneType'"
     ]
    }
   ],
   "source": [
    "for i in range(1000):\n",
    "    val = cost(particles, w).sum()\n",
    "    val.backward()\n",
    "\n",
    "    grad = -particles.grad\n",
    "\n",
    "    with torch.no_grad():\n",
    "        K = torch.exp(-(1 / h) * torch.linalg.norm(particles[:, :, None] - particles.T[None, :, :], axis=1) ** 2)\n",
    "        grad_K = (2 / h) * ((particles[:, :, None] - particles.T[None, :, :]) * K[:, None, :]).sum(axis=-1)\n",
    "\n",
    "        phi = (K @ grad + grad_K) / len(particles)\n",
    "\n",
    "        particles += lr * phi\n",
    "\n",
    "    particles.grad.zero_();"
   ]
  },
  {
   "cell_type": "code",
   "execution_count": 100,
   "id": "ac6cfb5f",
   "metadata": {},
   "outputs": [
    {
     "data": {
      "text/plain": [
       "<matplotlib.collections.PathCollection at 0x1397824d0>"
      ]
     },
     "execution_count": 100,
     "metadata": {},
     "output_type": "execute_result"
    },
    {
     "data": {
      "image/png": "[encoded data removed]",
      "text/plain": [
       "<Figure size 640x480 with 1 Axes>"
      ]
     },
     "metadata": {},
     "output_type": "display_data"
    }
   ],
   "source": [
    "temp_particles = particles.detach().numpy()\n",
    "plt.scatter(temp_particles[:, 0], temp_particles[:, 1])"
   ]
  },
  {
   "cell_type": "code",
   "execution_count": null,
   "id": "3bd1f090",
   "metadata": {},
   "outputs": [],
   "source": []
  }
 ],
 "metadata": {
  "kernelspec": {
   "display_name": "Python 3 (ipykernel)",
   "language": "python",
   "name": "python3"
  },
  "language_info": {
   "codemirror_mode": {
    "name": "ipython",
    "version": 3
   },
   "file_extension": ".py",
   "mimetype": "text/x-python",
   "name": "python",
   "nbconvert_exporter": "python",
   "pygments_lexer": "ipython3",
   "version": "3.10.6"
  }
 },
 "nbformat": 4,
 "nbformat_minor": 5
}
