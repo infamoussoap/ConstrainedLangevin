{
 "cells": [
  {
   "cell_type": "code",
   "execution_count": 8,
   "id": "8024cda5",
   "metadata": {},
   "outputs": [],
   "source": [
    "import numpy as np\n",
    "import torch\n",
    "import matplotlib.pyplot as plt\n",
    "\n",
    "import scipy\n",
    "from scipy.spatial import HalfspaceIntersection\n",
    "from scipy.spatial import ConvexHull\n",
    "\n",
    "from scipy.stats import truncnorm\n",
    "\n",
    "import arviz\n",
    "\n",
    "from DikinSamplers import RandomWalk, LangevinSampler"
   ]
  },
  {
   "cell_type": "code",
   "execution_count": 10,
   "id": "38213f80",
   "metadata": {},
   "outputs": [
    {
     "data": {
      "image/png": "[encoded data removed]",
      "text/plain": [
       "<Figure size 640x480 with 1 Axes>"
      ]
     },
     "metadata": {},
     "output_type": "display_data"
    }
   ],
   "source": [
    "import numpy as np\n",
    "import matplotlib.pyplot as plt\n",
    "from scipy.spatial import HalfspaceIntersection\n",
    "from scipy.spatial import ConvexHull\n",
    "\n",
    "# Example A: n x 2 matrix\n",
    "A = np.array([\n",
    "    [1, 0],\n",
    "    [-1, 0],\n",
    "    [0, 1],\n",
    "    [0, -1]\n",
    "])\n",
    "\n",
    "b = np.ones(len(A))  # a_i x <= 1\n",
    "\n",
    "halfspaces = np.hstack((A, -b[:, None]))\n",
    "\n",
    "# Feasible interior point (must strictly satisfy all constraints)\n",
    "interior_point = np.array([0.0, 0.0])  # Make sure this is inside the polytope\n",
    "\n",
    "hs = HalfspaceIntersection(halfspaces, interior_point)\n",
    "\n",
    "# Plot\n",
    "fig, ax = plt.subplots()\n",
    "for simplex in ConvexHull(hs.intersections).simplices:\n",
    "    points = hs.intersections[simplex]\n",
    "    ax.plot(points[:, 0], points[:, 1], 'k-')\n",
    "ax.plot(*zip(*hs.intersections), 'o')  # Vertices\n",
    "ax.set_aspect('equal')\n",
    "plt.grid(True)\n",
    "plt.title(\"2D Polytope\")\n",
    "plt.scatter(2, 2)\n",
    "plt.show()"
   ]
  },
  {
   "cell_type": "code",
   "execution_count": 16,
   "id": "80a9655d",
   "metadata": {},
   "outputs": [],
   "source": [
    "num_iters = 10_000\n",
    "\n",
    "log_pdf = lambda x: -0.5 * torch.linalg.norm(x, axis=-1) ** 2\n",
    "sampler = LangevinSampler(0.05, torch.tensor(A, dtype=torch.float64), log_pdf, e=1e-3, include_lazification=False)\n",
    "history1 = sampler.run(num_iters)\n",
    "\n",
    "log_pdf = lambda x: -0.5 * torch.linalg.norm(x, axis=-1) ** 2 / (2 * 0.5 ** 2)\n",
    "sampler = LangevinSampler(0.05, torch.tensor(A, dtype=torch.float64), log_pdf, e=1e-3, include_lazification=False)\n",
    "history2 = sampler.run(num_iters)\n",
    "\n",
    "log_pdf = lambda x: -0.5 * torch.linalg.norm(x, axis=-1) ** 2 / (2 * 0.1 ** 2)\n",
    "sampler = LangevinSampler(0.05, torch.tensor(A, dtype=torch.float64), log_pdf, e=1e-3, include_lazification=False)\n",
    "history2 = sampler.run(num_iters)"
   ]
  },
  {
   "cell_type": "code",
   "execution_count": 17,
   "id": "579d22e9",
   "metadata": {},
   "outputs": [
    {
     "data": {
      "text/plain": [
       "np.float32(2.6413047)"
      ]
     },
     "execution_count": 17,
     "metadata": {},
     "output_type": "execute_result"
    }
   ],
   "source": [
    "np.exp(-0.5 * (np.linalg.norm(history1, axis=1) ** 2) * (1 - 1 / (0.5 ** 2))).mean()"
   ]
  },
  {
   "cell_type": "code",
   "execution_count": 18,
   "id": "7445c3ba",
   "metadata": {},
   "outputs": [
    {
     "data": {
      "text/plain": [
       "np.float32(0.025044585)"
      ]
     },
     "execution_count": 18,
     "metadata": {},
     "output_type": "execute_result"
    }
   ],
   "source": [
    "np.exp(-0.5 * (np.linalg.norm(history1, axis=1) ** 2) * (1 / (0.1 ** 2) - 1 / (0.5 ** 2))).mean()"
   ]
  },
  {
   "cell_type": "code",
   "execution_count": 19,
   "id": "ab78c422",
   "metadata": {},
   "outputs": [
    {
     "data": {
      "text/plain": [
       "0.0661503800700495"
      ]
     },
     "execution_count": 19,
     "metadata": {},
     "output_type": "execute_result"
    }
   ],
   "source": [
    "2.6413047 * 0.025044585"
   ]
  },
  {
   "cell_type": "code",
   "execution_count": null,
   "id": "8a066da1",
   "metadata": {},
   "outputs": [],
   "source": []
  }
 ],
 "metadata": {
  "kernelspec": {
   "display_name": "Python 3 (ipykernel)",
   "language": "python",
   "name": "python3"
  },
  "language_info": {
   "codemirror_mode": {
    "name": "ipython",
    "version": 3
   },
   "file_extension": ".py",
   "mimetype": "text/x-python",
   "name": "python",
   "nbconvert_exporter": "python",
   "pygments_lexer": "ipython3",
   "version": "3.10.6"
  }
 },
 "nbformat": 4,
 "nbformat_minor": 5
}
