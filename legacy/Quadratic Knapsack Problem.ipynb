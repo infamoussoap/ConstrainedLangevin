{
 "cells": [
  {
   "cell_type": "markdown",
   "id": "65f88fb9",
   "metadata": {},
   "source": [
    "https://cedric.cnam.fr/~soutif/QKP/QKP.html"
   ]
  },
  {
   "cell_type": "code",
   "execution_count": 1,
   "id": "c88433b4",
   "metadata": {},
   "outputs": [],
   "source": [
    "import numpy as np\n",
    "import matplotlib.pyplot as plt\n",
    "import pandas as pd\n",
    "import yfinance as yf\n",
    "import torch\n",
    "import scipy\n",
    "import cvxpy as cp"
   ]
  },
  {
   "cell_type": "code",
   "execution_count": 2,
   "id": "6c120c99",
   "metadata": {},
   "outputs": [],
   "source": [
    "def covariance(samples):\n",
    "    mean_zero_samples = samples - samples.mean(axis=0)[None, :]\n",
    "    C = (mean_zero_samples[:, :, None] * mean_zero_samples[:, None, :]).mean(axis=0)\n",
    "    return C"
   ]
  },
  {
   "cell_type": "code",
   "execution_count": 3,
   "id": "7c716e70",
   "metadata": {},
   "outputs": [],
   "source": [
    "with open('jeu_100_50_3.txt', 'r') as f:\n",
    "    lines = f.read().split('\\n')"
   ]
  },
  {
   "cell_type": "code",
   "execution_count": 4,
   "id": "5af280a6",
   "metadata": {},
   "outputs": [],
   "source": [
    "dim = int(lines[1])\n",
    "diag = np.array([int(x) for x in lines[2].split()])"
   ]
  },
  {
   "cell_type": "code",
   "execution_count": 5,
   "id": "dac273ed",
   "metadata": {},
   "outputs": [],
   "source": [
    "off_diag = []\n",
    "\n",
    "for i in range(3, dim + 3 - 1):\n",
    "    off_diag.append(np.array([int(x) for x in lines[i].split()]))"
   ]
  },
  {
   "cell_type": "code",
   "execution_count": 6,
   "id": "202bc315",
   "metadata": {},
   "outputs": [
    {
     "name": "stdout",
     "output_type": "stream",
     "text": [
      "0\n"
     ]
    }
   ],
   "source": [
    "constraint_type = int(lines[dim + 3])\n",
    "# 0 if the constraint is of type <= (i.e. always since we are considering (QKP) instances)\n",
    "# and 1 if the constraint is an eglity constraint\n",
    "print(constraint_type) "
   ]
  },
  {
   "cell_type": "code",
   "execution_count": 7,
   "id": "f346cc54",
   "metadata": {},
   "outputs": [
    {
     "data": {
      "text/plain": [
       "156"
      ]
     },
     "execution_count": 7,
     "metadata": {},
     "output_type": "execute_result"
    }
   ],
   "source": [
    "capacity = int(lines[dim + 3 + 1])\n",
    "capacity"
   ]
  },
  {
   "cell_type": "code",
   "execution_count": 8,
   "id": "b6377856",
   "metadata": {},
   "outputs": [],
   "source": [
    "weights = np.array([int(x) for x in lines[dim + 3 + 2].split()])"
   ]
  },
  {
   "cell_type": "code",
   "execution_count": null,
   "id": "dd203b7b",
   "metadata": {},
   "outputs": [],
   "source": []
  },
  {
   "cell_type": "code",
   "execution_count": 9,
   "id": "3f9c8bba",
   "metadata": {},
   "outputs": [],
   "source": [
    "A = np.zeros((dim, dim))\n",
    "for i in range(dim):\n",
    "    A[i, i] = diag[i] / 2\n",
    "    if i < dim - 1:\n",
    "        A[i, i+1:] = off_diag[i] / 2\n",
    "        \n",
    "A += A.T"
   ]
  },
  {
   "cell_type": "code",
   "execution_count": 10,
   "id": "9b491c6b",
   "metadata": {},
   "outputs": [],
   "source": [
    "A_torch = torch.tensor(A, dtype=torch.float64)\n",
    "weights_torch = torch.tensor(weights, dtype=torch.float64)"
   ]
  },
  {
   "cell_type": "code",
   "execution_count": 11,
   "id": "263750a7",
   "metadata": {},
   "outputs": [],
   "source": [
    "potential = lambda x: -torch.einsum('ni,ij,nj->n', x, A_torch, x)\n",
    "isvalid = lambda x: (x >= 0).all(axis=-1) * (x <= 1).all(axis=-1) * (x @ weights_torch <= capacity)"
   ]
  },
  {
   "cell_type": "code",
   "execution_count": 52,
   "id": "1d37eb8f",
   "metadata": {},
   "outputs": [],
   "source": [
    "num_particles = 10\n",
    "particles = np.round(np.random.rand(num_particles, dim) / weights)\n",
    "particles = torch.tensor(particles, dtype=torch.float64, requires_grad=True)\n",
    "\n",
    "counter = 2\n",
    "\n",
    "C = 1e-5 * torch.eye(dim, dtype=torch.float64)"
   ]
  },
  {
   "cell_type": "code",
   "execution_count": null,
   "id": "0eec9da4",
   "metadata": {},
   "outputs": [],
   "source": [
    "best_particle = torch.zeros(dim, dtype=torch.float64)\n",
    "best_val = 0\n",
    "\n",
    "num_iters = 5000\n",
    "# counter = 2\n",
    "\n",
    "history = torch.zeros(num_iters, dtype=torch.float64)\n",
    "rounded_history = torch.zeros(num_iters, dtype=torch.float64)\n",
    "for i in range(num_iters):\n",
    "    vals = potential(particles)\n",
    "    vals.sum().backward()\n",
    "    beta = 10 * np.sin(i / 1000) ** 2 + 1\n",
    "    with torch.no_grad():\n",
    "        grad = particles.grad\n",
    "        \n",
    "        rounded_particles = torch.round(particles).to(torch.float64)\n",
    "        rounded_particles = rounded_particles[isvalid(rounded_particles) > 0]\n",
    "        \n",
    "        if len(rounded_particles) > 0:\n",
    "            rounded_vals = potential(rounded_particles)\n",
    "            rounded_history[i] = rounded_vals.min()\n",
    "        else:\n",
    "            rounded_history[i] = best_val\n",
    "            \n",
    "        history[i] = vals.min()\n",
    "    \n",
    "        # C = (1 - 0.1 / counter) * C + (0.1 / counter) * covariance(particles)\n",
    "        # C = torch.clip(C, -1000, 1000)\n",
    "        \n",
    "        if rounded_history[i] < best_val:\n",
    "            jj = torch.argmin(rounded_vals)\n",
    "            best_particle = rounded_particles[jj].detach().clone()\n",
    "            best_val = rounded_history[i].detach().clone()\n",
    "    \n",
    "    counter += 1\n",
    "    particles.grad.zero_()"
   ]
  },
  {
   "cell_type": "code",
   "execution_count": null,
   "id": "17a8110d",
   "metadata": {},
   "outputs": [],
   "source": []
  },
  {
   "cell_type": "code",
   "execution_count": null,
   "id": "f45ce42d",
   "metadata": {},
   "outputs": [],
   "source": []
  },
  {
   "cell_type": "code",
   "execution_count": 128,
   "id": "cc98e489",
   "metadata": {},
   "outputs": [],
   "source": [
    "h = 0.01\n",
    "beta = 1\n",
    "C = 1e-5 * torch.eye(dim, dtype=torch.float64)"
   ]
  },
  {
   "cell_type": "code",
   "execution_count": 129,
   "id": "90aa9ce9",
   "metadata": {},
   "outputs": [],
   "source": [
    "beta = 1"
   ]
  },
  {
   "cell_type": "code",
   "execution_count": 130,
   "id": "2ca0d16d",
   "metadata": {
    "scrolled": true
   },
   "outputs": [],
   "source": [
    "best_particle = torch.zeros(dim, dtype=torch.float64)\n",
    "best_val = 0\n",
    "\n",
    "num_iters = 5000\n",
    "# counter = 2\n",
    "\n",
    "history = torch.zeros(num_iters, dtype=torch.float64)\n",
    "rounded_history = torch.zeros(num_iters, dtype=torch.float64)\n",
    "for i in range(num_iters):\n",
    "    vals = regularized_potential(particles)\n",
    "    vals.sum().backward()\n",
    "    beta = 10 * np.sin(i / 1000) ** 2 + 1\n",
    "    with torch.no_grad():\n",
    "        # C1 = C + 1e-5 * torch.eye(dim, dtype=torch.float64)\n",
    "        # sqrt_C1 = torch.linalg.cholesky(C1, upper=False)\n",
    "        \n",
    "        # particles += -particles.grad @ C1 * h + np.sqrt(2 * h / beta) * torch.randn_like(particles) @ sqrt_C1\n",
    "        particles += -particles.grad * h + np.sqrt(2 * h / beta) * torch.randn_like(particles)\n",
    "        \n",
    "        rounded_particles = torch.round(particles).to(torch.float64)\n",
    "        rounded_particles = rounded_particles[isvalid(rounded_particles) > 0]\n",
    "        \n",
    "        if len(rounded_particles) > 0:\n",
    "            rounded_vals = potential(rounded_particles)\n",
    "            rounded_history[i] = rounded_vals.min()\n",
    "        else:\n",
    "            rounded_history[i] = best_val\n",
    "            \n",
    "        history[i] = vals.min()\n",
    "    \n",
    "        # C = (1 - 0.1 / counter) * C + (0.1 / counter) * covariance(particles)\n",
    "        # C = torch.clip(C, -1000, 1000)\n",
    "        \n",
    "        if rounded_history[i] < best_val:\n",
    "            jj = torch.argmin(rounded_vals)\n",
    "            best_particle = rounded_particles[jj].detach().clone()\n",
    "            best_val = rounded_history[i].detach().clone()\n",
    "    \n",
    "    counter += 1\n",
    "    particles.grad.zero_()"
   ]
  },
  {
   "cell_type": "code",
   "execution_count": 131,
   "id": "8e6e93cd",
   "metadata": {},
   "outputs": [
    {
     "data": {
      "text/plain": [
       "0"
      ]
     },
     "execution_count": 131,
     "metadata": {},
     "output_type": "execute_result"
    }
   ],
   "source": [
    "best_val"
   ]
  },
  {
   "cell_type": "code",
   "execution_count": 132,
   "id": "ec55ecc7",
   "metadata": {},
   "outputs": [
    {
     "data": {
      "text/plain": [
       "tensor(nan, dtype=torch.float64)"
      ]
     },
     "execution_count": 132,
     "metadata": {},
     "output_type": "execute_result"
    }
   ],
   "source": [
    "history.min()"
   ]
  },
  {
   "cell_type": "code",
   "execution_count": 105,
   "id": "2dcd2487",
   "metadata": {},
   "outputs": [
    {
     "data": {
      "text/plain": [
       "156"
      ]
     },
     "execution_count": 105,
     "metadata": {},
     "output_type": "execute_result"
    }
   ],
   "source": [
    "capacity"
   ]
  },
  {
   "cell_type": "code",
   "execution_count": 106,
   "id": "02f7b90d",
   "metadata": {},
   "outputs": [
    {
     "data": {
      "text/plain": [
       "tensor(152., dtype=torch.float64)"
      ]
     },
     "execution_count": 106,
     "metadata": {},
     "output_type": "execute_result"
    }
   ],
   "source": [
    "best_particle @ weights_torch"
   ]
  },
  {
   "cell_type": "code",
   "execution_count": 107,
   "id": "1bbae021",
   "metadata": {},
   "outputs": [
    {
     "data": {
      "text/plain": [
       "tensor([-918.], dtype=torch.float64)"
      ]
     },
     "execution_count": 107,
     "metadata": {},
     "output_type": "execute_result"
    }
   ],
   "source": [
    "potential(best_particle.reshape(1, -1))"
   ]
  },
  {
   "cell_type": "code",
   "execution_count": 108,
   "id": "23a65428",
   "metadata": {
    "scrolled": true
   },
   "outputs": [
    {
     "data": {
      "text/plain": [
       "tensor(-918., dtype=torch.float64)"
      ]
     },
     "execution_count": 108,
     "metadata": {},
     "output_type": "execute_result"
    }
   ],
   "source": [
    "rounded_history.min()"
   ]
  },
  {
   "cell_type": "code",
   "execution_count": 109,
   "id": "fc4f2991",
   "metadata": {},
   "outputs": [
    {
     "data": {
      "text/plain": [
       "tensor(-7017.5107, dtype=torch.float64)"
      ]
     },
     "execution_count": 109,
     "metadata": {},
     "output_type": "execute_result"
    }
   ],
   "source": [
    "history.min()"
   ]
  },
  {
   "cell_type": "code",
   "execution_count": 110,
   "id": "5f594d85",
   "metadata": {
    "scrolled": false
   },
   "outputs": [
    {
     "data": {
      "text/plain": [
       "[<matplotlib.lines.Line2D at 0x3229002e0>]"
      ]
     },
     "execution_count": 110,
     "metadata": {},
     "output_type": "execute_result"
    },
    {
     "data": {
      "image/png": "[encoded data removed]",
      "text/plain": [
       "<Figure size 1100x300 with 2 Axes>"
      ]
     },
     "metadata": {},
     "output_type": "display_data"
    }
   ],
   "source": [
    "fig, axs = plt.subplots(1, 2, figsize=(11, 3))\n",
    "\n",
    "axs[0].plot(history)\n",
    "axs[1].plot(rounded_history)"
   ]
  },
  {
   "cell_type": "code",
   "execution_count": 111,
   "id": "1cdbb99b",
   "metadata": {},
   "outputs": [
    {
     "data": {
      "text/plain": [
       "tensor([-0., 0., -0., 0., -0., 1., 0., 1., -0., -0., -0., 0., -0., 1., 0., -0., 0., -0.,\n",
       "        -0., -0., -0., -0., -0., -0., -0., -0., 0., 0., 0., 0., -0., -0., -0., 1., -0., -0.,\n",
       "        -0., 0., 0., -0., 0., 0., -0., -0., 0., -0., -0., 0., -0., -0., -0., 1., -0., -0.,\n",
       "        0., 0., -0., 1., 0., -0., -0., -0., -0., -0., -0., -0., -0., 0., 0., -0., -0., -0.,\n",
       "        -0., -0., -0., -0., -0., -0., -0., 0., -0., -0., 0., -0., -0., -0., -0., 0., -0., -0.,\n",
       "        -0., 0., -0., 0., 0., 1., -0., -0., 0., -0.], dtype=torch.float64)"
      ]
     },
     "execution_count": 111,
     "metadata": {},
     "output_type": "execute_result"
    }
   ],
   "source": [
    "best_particle"
   ]
  },
  {
   "cell_type": "code",
   "execution_count": null,
   "id": "b05d09ef",
   "metadata": {},
   "outputs": [],
   "source": []
  },
  {
   "cell_type": "code",
   "execution_count": null,
   "id": "b42bade0",
   "metadata": {},
   "outputs": [],
   "source": []
  },
  {
   "cell_type": "code",
   "execution_count": 68,
   "id": "d4710949",
   "metadata": {},
   "outputs": [],
   "source": [
    "potential = lambda x: -torch.einsum('i,ij,j', x, A_torch, x)"
   ]
  },
  {
   "cell_type": "code",
   "execution_count": 69,
   "id": "29fd3b36",
   "metadata": {},
   "outputs": [],
   "source": [
    "num_iters = 10_000\n",
    "\n",
    "v = np.ones(2 * dim) * 0.01\n",
    "\n",
    "# particle = torch.tensor(np.ones(dim), dtype=torch.float64, requires_grad=True)\n",
    "particle = torch.zeros(dim, dtype=torch.float64, requires_grad=True)\n",
    "D_temp = torch.ones(dim, dtype=torch.float64)\n",
    "C = torch.diag(D_temp)\n",
    "sqrt_C = torch.diag(D_temp)\n",
    "counter = 1\n",
    "alpha = 0.1\n",
    "h = 0.1\n",
    "w = np.ones(2 * dim)"
   ]
  },
  {
   "cell_type": "code",
   "execution_count": 72,
   "id": "fab5bec6",
   "metadata": {},
   "outputs": [
    {
     "name": "stdout",
     "output_type": "stream",
     "text": [
      "Iteration 0: -997.0\n",
      "Iteration 1000: -997.0\n",
      "Iteration 2000: -997.0\n",
      "Iteration 3000: -997.0\n",
      "Iteration 4000: -997.0\n",
      "Iteration 5000: -1329.0\n",
      "Iteration 6000: -1329.0\n",
      "Iteration 7000: -1329.0\n",
      "Iteration 8000: -1329.0\n",
      "Iteration 9000: -1329.0\n",
      "Iteration 9999: -1329.0\n"
     ]
    }
   ],
   "source": [
    "# D_temp = torch.ones(dim, dtype=torch.float64)\n",
    "best_val = np.inf\n",
    "best_particle = None\n",
    "num_invalid_moves = 0\n",
    "\n",
    "history = torch.zeros(num_iters, dim)\n",
    "history_val = torch.zeros(num_iters)\n",
    "for i in range(num_iters):\n",
    "    val = potential(particle)\n",
    "    history_val[i] = val\n",
    "    \n",
    "    if val < best_val:\n",
    "        best_val = val\n",
    "        best_particle = particle.detach().clone()\n",
    "    \n",
    "    val.backward()\n",
    "    \n",
    "    a = 1 * np.cos(np.pi * i / 1000) ** 2 + 0.01\n",
    "    d = -C @ particle.grad + np.sqrt(2) * sqrt_C @ torch.randn_like(particle) * a\n",
    "    k = torch.argmax(abs(d))\n",
    "    \n",
    "    with torch.no_grad():\n",
    "        current_capacity = weights_torch @ particle\n",
    "        \n",
    "        particle[k] += 1 if d[k] > 0 else -1\n",
    "        \n",
    "        D_temp = (1 - alpha) * D_temp + alpha * particle.grad ** 2\n",
    "\n",
    "        C = torch.diag(1 / torch.sqrt(D_temp))\n",
    "        # sqrt_C = torch.sqrt(C)\n",
    "        # v = torch.concatenate([D_temp, D_temp]).detach().numpy()\n",
    "\n",
    "        if not isvalid(particle):\n",
    "            num_invalid_moves += 1\n",
    "            particle[k] += -1 if d[k] > 0 else 1\n",
    "        history[i] = particle\n",
    "            \n",
    "    counter += 1\n",
    "    \n",
    "    if i % 1000 == 0:\n",
    "        print(f\"Iteration {i}: {best_val.detach().numpy()}\")\n",
    "    \n",
    "    particle.grad.zero_()\n",
    "print(f\"Iteration {i}: {best_val.detach().numpy()}\")\n",
    "history = history.numpy()\n",
    "history_val = history_val.detach().numpy()"
   ]
  },
  {
   "cell_type": "code",
   "execution_count": 73,
   "id": "554ba4d8",
   "metadata": {},
   "outputs": [
    {
     "data": {
      "text/plain": [
       "9988"
      ]
     },
     "execution_count": 73,
     "metadata": {},
     "output_type": "execute_result"
    }
   ],
   "source": [
    "num_invalid_moves"
   ]
  },
  {
   "cell_type": "code",
   "execution_count": 74,
   "id": "ecd76366",
   "metadata": {},
   "outputs": [
    {
     "data": {
      "text/plain": [
       "tensor(154., dtype=torch.float64)"
      ]
     },
     "execution_count": 74,
     "metadata": {},
     "output_type": "execute_result"
    }
   ],
   "source": [
    "weights_torch @ best_particle"
   ]
  },
  {
   "cell_type": "code",
   "execution_count": 75,
   "id": "cfb63932",
   "metadata": {},
   "outputs": [
    {
     "data": {
      "text/plain": [
       "156"
      ]
     },
     "execution_count": 75,
     "metadata": {},
     "output_type": "execute_result"
    }
   ],
   "source": [
    "capacity"
   ]
  },
  {
   "cell_type": "code",
   "execution_count": 76,
   "id": "01315067",
   "metadata": {},
   "outputs": [],
   "source": [
    "# 18558.00"
   ]
  },
  {
   "cell_type": "code",
   "execution_count": 77,
   "id": "23e7a044",
   "metadata": {},
   "outputs": [
    {
     "data": {
      "text/plain": [
       "[<matplotlib.lines.Line2D at 0x30fcfad40>]"
      ]
     },
     "execution_count": 77,
     "metadata": {},
     "output_type": "execute_result"
    },
    {
     "data": {
      "image/png": "[encoded data removed]",
      "text/plain": [
       "<Figure size 640x480 with 1 Axes>"
      ]
     },
     "metadata": {},
     "output_type": "display_data"
    }
   ],
   "source": [
    "plt.plot(history_val)"
   ]
  },
  {
   "cell_type": "code",
   "execution_count": null,
   "id": "80bcdeaa",
   "metadata": {},
   "outputs": [],
   "source": []
  },
  {
   "cell_type": "code",
   "execution_count": null,
   "id": "7465cb0a",
   "metadata": {},
   "outputs": [],
   "source": []
  },
  {
   "cell_type": "code",
   "execution_count": null,
   "id": "e8da3673",
   "metadata": {},
   "outputs": [],
   "source": []
  },
  {
   "cell_type": "code",
   "execution_count": 78,
   "id": "4afe5dfe",
   "metadata": {},
   "outputs": [],
   "source": [
    "potential = lambda x: -x @ A_torch @ x\n",
    "is_valid = lambda x: (weights_torch @ x <= capacity) and (x >= 0).all() and (x <= 1).all()"
   ]
  },
  {
   "cell_type": "code",
   "execution_count": 79,
   "id": "18330952",
   "metadata": {},
   "outputs": [],
   "source": [
    "num_iters = 10_000\n",
    "\n",
    "v = np.ones(2 * dim) * 0.01\n",
    "\n",
    "# particle = torch.tensor(np.ones(dim), dtype=torch.float64, requires_grad=True)\n",
    "particle = torch.zeros(dim, dtype=torch.float64, requires_grad=True)\n",
    "D_temp = torch.ones(dim, dtype=torch.float64)\n",
    "C = torch.diag(D_temp)\n",
    "sqrt_C = torch.diag(D_temp)\n",
    "counter = 1\n",
    "alpha = 0.1\n",
    "h = 0.1\n",
    "w = np.ones(2 * dim)"
   ]
  },
  {
   "cell_type": "code",
   "execution_count": 80,
   "id": "baa54c99",
   "metadata": {},
   "outputs": [],
   "source": [
    "v = np.ones(2 * dim)"
   ]
  },
  {
   "cell_type": "code",
   "execution_count": 81,
   "id": "b6aa9ce7",
   "metadata": {},
   "outputs": [
    {
     "name": "stdout",
     "output_type": "stream",
     "text": [
      "Iteration 0: 0.0\n",
      "Iteration 1000: -557.0\n",
      "Iteration 2000: -557.0\n",
      "Iteration 3000: -557.0\n",
      "Iteration 4000: -557.0\n",
      "Iteration 5000: -557.0\n",
      "Iteration 6000: -557.0\n"
     ]
    },
    {
     "name": "stderr",
     "output_type": "stream",
     "text": [
      "/var/folders/99/5f_qszrn5y132sfcdd12k2f80000gn/T/ipykernel_67966/109736038.py:49: RuntimeWarning: overflow encountered in divide\n",
      "  v = 1 / torch.concatenate([D_temp, D_temp]).detach().numpy()\n",
      "/var/folders/99/5f_qszrn5y132sfcdd12k2f80000gn/T/ipykernel_67966/109736038.py:41: RuntimeWarning: invalid value encountered in divide\n",
      "  k = np.random.choice(range(2 * dim), p=w / w.sum())\n"
     ]
    },
    {
     "ename": "ValueError",
     "evalue": "probabilities contain NaN",
     "output_type": "error",
     "traceback": [
      "\u001b[0;31m---------------------------------------------------------------------------\u001b[0m",
      "\u001b[0;31mValueError\u001b[0m                                Traceback (most recent call last)",
      "Cell \u001b[0;32mIn [81], line 41\u001b[0m\n\u001b[1;32m     37\u001b[0m         \u001b[38;5;28;01melse\u001b[39;00m:\n\u001b[1;32m     38\u001b[0m             \u001b[38;5;66;03m# Cannot add\u001b[39;00m\n\u001b[1;32m     39\u001b[0m             w[jj \u001b[38;5;241m+\u001b[39m dim] \u001b[38;5;241m=\u001b[39m \u001b[38;5;241m0\u001b[39m\n\u001b[0;32m---> 41\u001b[0m     k \u001b[38;5;241m=\u001b[39m \u001b[43mnp\u001b[49m\u001b[38;5;241;43m.\u001b[39;49m\u001b[43mrandom\u001b[49m\u001b[38;5;241;43m.\u001b[39;49m\u001b[43mchoice\u001b[49m\u001b[43m(\u001b[49m\u001b[38;5;28;43mrange\u001b[39;49m\u001b[43m(\u001b[49m\u001b[38;5;241;43m2\u001b[39;49m\u001b[43m \u001b[49m\u001b[38;5;241;43m*\u001b[39;49m\u001b[43m \u001b[49m\u001b[43mdim\u001b[49m\u001b[43m)\u001b[49m\u001b[43m,\u001b[49m\u001b[43m \u001b[49m\u001b[43mp\u001b[49m\u001b[38;5;241;43m=\u001b[39;49m\u001b[43mw\u001b[49m\u001b[43m \u001b[49m\u001b[38;5;241;43m/\u001b[39;49m\u001b[43m \u001b[49m\u001b[43mw\u001b[49m\u001b[38;5;241;43m.\u001b[39;49m\u001b[43msum\u001b[49m\u001b[43m(\u001b[49m\u001b[43m)\u001b[49m\u001b[43m)\u001b[49m\n\u001b[1;32m     43\u001b[0m \u001b[38;5;28;01mwith\u001b[39;00m torch\u001b[38;5;241m.\u001b[39mno_grad():\n\u001b[1;32m     44\u001b[0m     particle[k \u001b[38;5;241m%\u001b[39m dim] \u001b[38;5;241m+\u001b[39m\u001b[38;5;241m=\u001b[39m \u001b[38;5;241m-\u001b[39m\u001b[38;5;241m1\u001b[39m \u001b[38;5;28;01mif\u001b[39;00m k \u001b[38;5;241m<\u001b[39m dim \u001b[38;5;28;01melse\u001b[39;00m \u001b[38;5;241m1\u001b[39m\n",
      "File \u001b[0;32mnumpy/random/mtrand.pyx:990\u001b[0m, in \u001b[0;36mnumpy.random.mtrand.RandomState.choice\u001b[0;34m()\u001b[0m\n",
      "\u001b[0;31mValueError\u001b[0m: probabilities contain NaN"
     ]
    }
   ],
   "source": [
    "# D_temp = torch.ones(dim, dtype=torch.float64)\n",
    "best_val = np.inf\n",
    "best_particle = None\n",
    "num_invalid_moves = 0\n",
    "\n",
    "history = torch.zeros(num_iters, dim)\n",
    "history_val = torch.zeros(num_iters)\n",
    "for i in range(num_iters):\n",
    "    val = potential(particle)\n",
    "    history_val[i] = val\n",
    "    \n",
    "    if val < best_val:\n",
    "        best_val = val\n",
    "        best_particle = particle.detach().clone()\n",
    "    \n",
    "    val.backward()\n",
    "    \n",
    "    d = -C @ particle.grad\n",
    "    # d = -particle.grad\n",
    "    \n",
    "    with torch.no_grad():\n",
    "        w = v.copy()\n",
    "        for k in range(dim):\n",
    "            if d[k] > 0:\n",
    "                w[dim + k] += d[k]\n",
    "            else:\n",
    "                w[k] += abs(d[k])\n",
    "        \n",
    "        current_capacity = weights_torch @ particle\n",
    "        for jj in range(dim):\n",
    "            if particle[jj] < 1: \n",
    "                w[jj] = 0  # Cannot subtract\n",
    "                \n",
    "                # Can only add if the addition is under capacity\n",
    "                if current_capacity + weights_torch[jj] > capacity:\n",
    "                    w[jj + dim] = 0\n",
    "            else:\n",
    "                # Cannot add\n",
    "                w[jj + dim] = 0\n",
    "        \n",
    "        k = np.random.choice(range(2 * dim), p=w / w.sum())\n",
    "    \n",
    "    with torch.no_grad():\n",
    "        particle[k % dim] += -1 if k < dim else 1\n",
    "        history[i] = particle\n",
    "        D_temp = (1 - alpha) * D_temp + alpha * particle.grad ** 2\n",
    "        \n",
    "        C = torch.diag(1 / torch.sqrt(D_temp))\n",
    "        v = 1 / torch.concatenate([D_temp, D_temp]).detach().numpy()\n",
    "        \n",
    "        if not is_valid(particle):\n",
    "            num_invalid_moves += 1\n",
    "            particle[k % dim] += -1 if k < dim else 1\n",
    "            \n",
    "    counter += 1\n",
    "    \n",
    "    if i % 1000 == 0:\n",
    "        print(f\"Iteration {i}: {best_val.detach().numpy()}\")\n",
    "    \n",
    "    particle.grad.zero_()\n",
    "print(f\"Iteration {i}: {best_val.detach().numpy()}\")\n",
    "history = history.numpy()\n",
    "history_val = history_val.detach().numpy()"
   ]
  },
  {
   "cell_type": "code",
   "execution_count": null,
   "id": "d826d573",
   "metadata": {},
   "outputs": [],
   "source": [
    "w"
   ]
  },
  {
   "cell_type": "code",
   "execution_count": null,
   "id": "2d3b1296",
   "metadata": {},
   "outputs": [],
   "source": [
    "num_invalid_moves"
   ]
  },
  {
   "cell_type": "code",
   "execution_count": null,
   "id": "6442e7b4",
   "metadata": {},
   "outputs": [],
   "source": [
    "plt.plot(history_val)"
   ]
  },
  {
   "cell_type": "code",
   "execution_count": null,
   "id": "cc650afd",
   "metadata": {},
   "outputs": [],
   "source": []
  }
 ],
 "metadata": {
  "kernelspec": {
   "display_name": "Python 3 (ipykernel)",
   "language": "python",
   "name": "python3"
  },
  "language_info": {
   "codemirror_mode": {
    "name": "ipython",
    "version": 3
   },
   "file_extension": ".py",
   "mimetype": "text/x-python",
   "name": "python",
   "nbconvert_exporter": "python",
   "pygments_lexer": "ipython3",
   "version": "3.10.6"
  }
 },
 "nbformat": 4,
 "nbformat_minor": 5
}
