{
 "cells": [
  {
   "cell_type": "code",
   "execution_count": 1,
   "id": "16119ea3",
   "metadata": {},
   "outputs": [],
   "source": [
    "import numpy as np\n",
    "import torch\n",
    "import matplotlib.pyplot as plt"
   ]
  },
  {
   "cell_type": "code",
   "execution_count": 2,
   "id": "948d0330",
   "metadata": {},
   "outputs": [],
   "source": [
    "potential = lambda x: torch.linalg.norm(x, axis=-1)\n",
    "is_valid = lambda x: torch.linalg.norm(x, axis=-1) < 10"
   ]
  },
  {
   "cell_type": "code",
   "execution_count": 3,
   "id": "b890b877",
   "metadata": {},
   "outputs": [],
   "source": [
    "num_particles = 10\n",
    "dim = 4\n",
    "\n",
    "particles = np.round(np.random.normal(0, 5, (num_particles, dim)))\n",
    "particles = torch.tensor(particles, dtype=torch.float64, requires_grad=True)\n",
    "v = torch.ones(num_particles, 2 * dim, dtype=torch.float64) * 0.1"
   ]
  },
  {
   "cell_type": "code",
   "execution_count": 4,
   "id": "f825896b",
   "metadata": {},
   "outputs": [],
   "source": [
    "vals = potential(particles)\n",
    "vals.sum().backward()"
   ]
  },
  {
   "cell_type": "code",
   "execution_count": 5,
   "id": "393de107",
   "metadata": {},
   "outputs": [
    {
     "data": {
      "text/plain": [
       "torch.Size([10, 8])"
      ]
     },
     "execution_count": 5,
     "metadata": {},
     "output_type": "execute_result"
    }
   ],
   "source": [
    "v.shape"
   ]
  },
  {
   "cell_type": "code",
   "execution_count": 18,
   "id": "9ce0ddab",
   "metadata": {},
   "outputs": [],
   "source": [
    "def step(particles, v, potential):\n",
    "    vals = potential(particles)\n",
    "    vals.sum().backward()\n",
    "    \n",
    "    mask = (-particles.grad) > 0\n",
    "    \n",
    "    # Get probabilities to flip an index up or down 1\n",
    "    w = v.clone() + abs(torch.concatenate([mask * particles.grad, (~mask) * particles.grad], axis=1))\n",
    "    w = w.cumsum(axis=1)\n",
    "    w /= w[:, -1][:, None]\n",
    "    \n",
    "    # Draw rand float and get index to flip\n",
    "    xi = torch.rand(num_particles)\n",
    "    mask = xi[:, None] < w\n",
    "\n",
    "    temp = torch.arange(2 * dim) * mask\n",
    "    temp[~mask] = 3 * dim\n",
    "    \n",
    "    # The index to be flipped\n",
    "    sampled_index = torch.argmin(temp, axis=1)\n",
    "\n",
    "    mask = sampled_index < dim\n",
    "\n",
    "    sign = 1 * mask - 1 * (~mask)\n",
    "    index = sampled_index % dim\n",
    "\n",
    "    with torch.no_grad():\n",
    "        particles[torch.arange(num_particles), index] += sign\n",
    "        \n",
    "    particles.grad.zero_();"
   ]
  },
  {
   "cell_type": "code",
   "execution_count": 7,
   "id": "b3982b79",
   "metadata": {},
   "outputs": [],
   "source": [
    "for i in range(10):\n",
    "    step(particles, v, potential)\n",
    "    \n",
    "    is_particle_valid = is_valid(particles)\n",
    "    num_valid = is_particle_valid.sum().item()\n",
    "    if num_valid == 0:\n",
    "        break\n",
    "    elif num_valid == num_particles:\n",
    "        continue\n",
    "    else:\n",
    "        support = is_particle_valid.to(torch.float64).clone().detach().numpy()\n",
    "        p = support / support.sum()\n",
    "        \n",
    "        resampled_particles = np.random.choice(np.arange(num_particles), num_particles - num_valid, \n",
    "                                               replace=True, p=p)\n",
    "        with torch.no_grad():\n",
    "            particles[~is_particle_valid] = particles[resampled_particles]"
   ]
  },
  {
   "cell_type": "code",
   "execution_count": 8,
   "id": "f5f3db5b",
   "metadata": {},
   "outputs": [
    {
     "data": {
      "text/plain": [
       "tensor([2.6458, 1.0000, 1.0000, 4.2426, 1.7321, 1.0000, 3.8730, 3.1623, 2.0000,\n",
       "        6.4031], dtype=torch.float64, grad_fn=<LinalgVectorNormBackward0>)"
      ]
     },
     "execution_count": 8,
     "metadata": {},
     "output_type": "execute_result"
    }
   ],
   "source": [
    "torch.linalg.norm(particles, axis=1)"
   ]
  },
  {
   "cell_type": "code",
   "execution_count": null,
   "id": "b2ff5bf2",
   "metadata": {},
   "outputs": [],
   "source": []
  },
  {
   "cell_type": "code",
   "execution_count": 152,
   "id": "5f164ac6",
   "metadata": {},
   "outputs": [
    {
     "data": {
      "text/plain": [
       "tensor([14.0357,  3.1623, 11.7473,  0.0000,  9.2736,  0.0000,  0.0000,  1.0000,\n",
       "        12.7279,  2.4495], dtype=torch.float64,\n",
       "       grad_fn=<LinalgVectorNormBackward0>)"
      ]
     },
     "execution_count": 152,
     "metadata": {},
     "output_type": "execute_result"
    }
   ],
   "source": [
    "torch.linalg.norm(particles, axis=1)"
   ]
  },
  {
   "cell_type": "code",
   "execution_count": null,
   "id": "8ecb5158",
   "metadata": {},
   "outputs": [],
   "source": []
  },
  {
   "cell_type": "code",
   "execution_count": 147,
   "id": "546d6a5c",
   "metadata": {},
   "outputs": [
    {
     "data": {
      "text/plain": [
       "tensor([[  6.,   3.,  -7.,  13.],\n",
       "        [  3.,  13.,  -2.,  -6.],\n",
       "        [ 13.,   4.,  11.,  -2.],\n",
       "        [ -1.,   0.,  -3.,   2.],\n",
       "        [  5.,   1., -10.,  -6.],\n",
       "        [  0.,   0.,   0.,   0.],\n",
       "        [  1.,  -2.,  -1.,   2.],\n",
       "        [  4.,   0.,   0.,   1.],\n",
       "        [ -7.,   1.,   2.,  18.],\n",
       "        [  2.,   1.,   0.,   1.]], dtype=torch.float64, requires_grad=True)"
      ]
     },
     "execution_count": 147,
     "metadata": {},
     "output_type": "execute_result"
    }
   ],
   "source": [
    "particles"
   ]
  },
  {
   "cell_type": "code",
   "execution_count": null,
   "id": "586ccd67",
   "metadata": {},
   "outputs": [],
   "source": []
  },
  {
   "cell_type": "code",
   "execution_count": 28,
   "id": "1c939afd",
   "metadata": {},
   "outputs": [],
   "source": [
    "n1 = 5\n",
    "Q1 = np.array([\n",
    "    [8, 2, 3, 4, 5],\n",
    "    [2, 7, 2, 3, 4],\n",
    "    [3, 2, 6, 2, 3],\n",
    "    [4, 3, 2, 5, 2],\n",
    "    [5, 4, 3, 2, 9]\n",
    "])\n",
    "weights1 = np.array([2, 3, 4, 5, 9])\n",
    "capacity1 = 10\n",
    "\n",
    "Q = torch.tensor(Q1, dtype=torch.float64)\n",
    "weights = torch.tensor(weights1, dtype=torch.float64)\n",
    "capacity = capacity1\n",
    "dim = n1\n",
    "\n",
    "weights_torch = weights / capacity"
   ]
  },
  {
   "cell_type": "code",
   "execution_count": 29,
   "id": "f0f7a84a",
   "metadata": {},
   "outputs": [],
   "source": [
    "potential = lambda x: -torch.einsum('ni,ij,nj->n', x, Q, x)\n",
    "isvalid = lambda x: (x @ weights_torch <= 1) & (x >= 0).all(axis=1) & (x <= 1).all(axis=1)"
   ]
  },
  {
   "cell_type": "code",
   "execution_count": 50,
   "id": "392bcbc0",
   "metadata": {},
   "outputs": [],
   "source": [
    "num_particles = 100\n",
    "particles = np.round(np.random.rand(num_particles, dim))\n",
    "particles = torch.tensor(particles, dtype=torch.float64, requires_grad=True)\n",
    "v = torch.ones(num_particles, 2 * dim, dtype=torch.float64) * 0.1\n",
    "\n",
    "is_particle_valid = isvalid(particles)\n",
    "support = is_particle_valid.to(torch.float64).clone().detach().numpy()\n",
    "p = support / support.sum()\n",
    "\n",
    "num_valid = is_particle_valid.sum().item()\n",
    "resampled_particles = np.random.choice(np.arange(num_particles), num_particles - num_valid, \n",
    "                                       replace=True, p=p)\n",
    "with torch.no_grad():\n",
    "    particles[~is_particle_valid] = particles[resampled_particles]"
   ]
  },
  {
   "cell_type": "code",
   "execution_count": 57,
   "id": "17017b2d",
   "metadata": {},
   "outputs": [],
   "source": [
    "for i in range(1):\n",
    "    step(particles, v, potential)\n",
    "    \n",
    "    is_particle_valid = isvalid(particles)\n",
    "    num_valid = is_particle_valid.sum().item()\n",
    "    if num_valid == 0:\n",
    "        break\n",
    "    elif num_valid == num_particles:\n",
    "        continue\n",
    "    else:\n",
    "        support = is_particle_valid.to(torch.float64).clone().detach().numpy()\n",
    "        p = support / support.sum()\n",
    "        \n",
    "        resampled_particles = np.random.choice(np.arange(num_particles), num_particles - num_valid, \n",
    "                                               replace=True, p=p)\n",
    "        with torch.no_grad():\n",
    "            particles[~is_particle_valid] = particles[resampled_particles]"
   ]
  },
  {
   "cell_type": "code",
   "execution_count": 58,
   "id": "4b4b133f",
   "metadata": {},
   "outputs": [
    {
     "data": {
      "text/plain": [
       "tensor([-69., -63., -67., -63., -58., -64., -58., -69., -69., -69., -63., -64.,\n",
       "        -68., -69., -64., -74., -68., -64., -69., -74., -69., -69., -67., -58.,\n",
       "        -67., -63., -58., -58., -58., -63., -64., -69., -58., -67., -69., -68.,\n",
       "        -58., -67., -58., -69., -58., -69., -63., -64., -74., -69., -58., -74.,\n",
       "        -68., -64., -58., -64., -69., -68., -68., -64., -69., -74., -69., -58.,\n",
       "        -74., -69., -64., -69., -69., -69., -67., -67., -69., -69., -69., -69.,\n",
       "        -64., -69., -74., -69., -69., -58., -69., -69., -64., -74., -67., -69.,\n",
       "        -69., -68., -67., -68., -69., -63., -68., -69., -67., -69., -63., -68.,\n",
       "        -63., -69., -64., -69.], dtype=torch.float64, grad_fn=<NegBackward0>)"
      ]
     },
     "execution_count": 58,
     "metadata": {},
     "output_type": "execute_result"
    }
   ],
   "source": [
    "potential(particles)"
   ]
  },
  {
   "cell_type": "code",
   "execution_count": 59,
   "id": "cb3ccfc0",
   "metadata": {},
   "outputs": [
    {
     "data": {
      "text/plain": [
       "tensor([False, False, False, False, False, False, False, False, False, False,\n",
       "        False, False, False, False, False, False, False, False, False, False,\n",
       "        False, False, False, False, False, False, False, False, False, False,\n",
       "        False, False, False, False, False, False, False, False, False, False,\n",
       "        False, False, False, False, False, False, False, False, False, False,\n",
       "        False, False, False, False, False, False, False, False, False, False,\n",
       "        False, False, False, False, False, False, False, False, False, False,\n",
       "        False, False, False, False, False, False, False, False, False, False,\n",
       "        False, False, False, False, False, False, False, False, False, False,\n",
       "        False, False, False, False, False, False, False, False, False, False])"
      ]
     },
     "execution_count": 59,
     "metadata": {},
     "output_type": "execute_result"
    }
   ],
   "source": [
    "isvalid(particles)"
   ]
  },
  {
   "cell_type": "code",
   "execution_count": null,
   "id": "c760e69b",
   "metadata": {},
   "outputs": [],
   "source": []
  }
 ],
 "metadata": {
  "kernelspec": {
   "display_name": "Python 3 (ipykernel)",
   "language": "python",
   "name": "python3"
  },
  "language_info": {
   "codemirror_mode": {
    "name": "ipython",
    "version": 3
   },
   "file_extension": ".py",
   "mimetype": "text/x-python",
   "name": "python",
   "nbconvert_exporter": "python",
   "pygments_lexer": "ipython3",
   "version": "3.10.6"
  }
 },
 "nbformat": 4,
 "nbformat_minor": 5
}
