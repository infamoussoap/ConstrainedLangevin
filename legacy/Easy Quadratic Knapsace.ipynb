{
 "cells": [
  {
   "cell_type": "code",
   "execution_count": 1,
   "id": "c88433b4",
   "metadata": {},
   "outputs": [],
   "source": [
    "import numpy as np\n",
    "import matplotlib.pyplot as plt\n",
    "import pandas as pd\n",
    "import yfinance as yf\n",
    "import torch\n",
    "import scipy\n",
    "import cvxpy as cp"
   ]
  },
  {
   "cell_type": "code",
   "execution_count": 2,
   "id": "4e844fb8",
   "metadata": {},
   "outputs": [],
   "source": [
    "def covariance(samples):\n",
    "    mean_zero_samples = samples - samples.mean(axis=0)[None, :]\n",
    "    C = (mean_zero_samples[:, :, None] * mean_zero_samples[:, None, :]).mean(axis=0)\n",
    "    return C"
   ]
  },
  {
   "cell_type": "code",
   "execution_count": 5,
   "id": "cdb6f84a",
   "metadata": {},
   "outputs": [],
   "source": [
    "n1 = 5\n",
    "Q1 = np.array([\n",
    "    [8, 2, 3, 4, 5],\n",
    "    [2, 7, 2, 3, 4],\n",
    "    [3, 2, 6, 2, 3],\n",
    "    [4, 3, 2, 5, 2],\n",
    "    [5, 4, 3, 2, 9]\n",
    "])\n",
    "weights1 = np.array([2, 3, 4, 5, 9])\n",
    "capacity1 = 10\n",
    "\n",
    "Q = torch.tensor(Q1, dtype=torch.float64)\n",
    "weights = torch.tensor(weights1, dtype=torch.float64)\n",
    "capacity = capacity1\n",
    "dim = n1\n",
    "\n",
    "weights_torch = weights / capacity"
   ]
  },
  {
   "cell_type": "code",
   "execution_count": 6,
   "id": "aee6b5fe",
   "metadata": {},
   "outputs": [
    {
     "data": {
      "text/plain": [
       "tensor([ 1.0601,  4.0366,  4.7886,  5.5120, 19.6028], dtype=torch.float64)"
      ]
     },
     "execution_count": 6,
     "metadata": {},
     "output_type": "execute_result"
    }
   ],
   "source": [
    "torch.linalg.eigh(Q)[0]"
   ]
  },
  {
   "cell_type": "code",
   "execution_count": null,
   "id": "b9bfcb86",
   "metadata": {},
   "outputs": [],
   "source": []
  },
  {
   "cell_type": "code",
   "execution_count": 17,
   "id": "263750a7",
   "metadata": {},
   "outputs": [],
   "source": [
    "potential = lambda x: -torch.einsum('ni,ij,nj->n', x, Q, x)\n",
    "isvalid = lambda x: (x @ weights_torch <= 1)\n",
    "\n",
    "def regularized_potential(x):\n",
    "    with torch.no_grad():\n",
    "        a, _ = torch.max(x, axis=-1)\n",
    "    \n",
    "    exp_x = torch.exp(x - a[:, None])\n",
    "    \n",
    "    z = exp_x / (torch.exp(-a) + exp_x @ weights_torch)[:, None]\n",
    "    # z = torch.exp(x - a[:, None] - torch.log(torch.exp(-a) + exp_x @ weights_torch)[:, None])\n",
    "    with torch.no_grad():\n",
    "        mask = torch.round(z).to(torch.float64)\n",
    "        # mask = isvalid(torch.round(z)).to(torch.float64)\n",
    "    \n",
    "    vals = potential(z) - (x).sum(axis=-1) \\\n",
    "                + (dim + 1) * torch.log(torch.exp(-a) + exp_x @ weights_torch)\n",
    "    return vals"
   ]
  },
  {
   "cell_type": "code",
   "execution_count": 18,
   "id": "20551055",
   "metadata": {},
   "outputs": [],
   "source": [
    "num_particles = 10\n",
    "particles = np.random.randn(*(num_particles, dim)) * 0.1\n",
    "particles = torch.tensor(-particles, dtype=torch.float64, requires_grad=True)\n",
    "h = 0.001\n",
    "counter = 2"
   ]
  },
  {
   "cell_type": "code",
   "execution_count": 19,
   "id": "f1614267",
   "metadata": {},
   "outputs": [],
   "source": [
    "# particles"
   ]
  },
  {
   "cell_type": "code",
   "execution_count": 20,
   "id": "7f0ce5a6",
   "metadata": {},
   "outputs": [],
   "source": [
    "a, _ = torch.max(particles, axis=-1)\n",
    "exp_x = torch.exp(particles - a[:, None])\n",
    "z = exp_x / (torch.exp(-a) + exp_x @ weights_torch)[:, None]"
   ]
  },
  {
   "cell_type": "code",
   "execution_count": 21,
   "id": "fe964827",
   "metadata": {},
   "outputs": [
    {
     "data": {
      "text/plain": [
       "tensor([0.6957, 0.6921, 0.7069, 0.7088, 0.6934, 0.6889, 0.7057, 0.7261, 0.7146,\n",
       "        0.6892], dtype=torch.float64, grad_fn=<MvBackward0>)"
      ]
     },
     "execution_count": 21,
     "metadata": {},
     "output_type": "execute_result"
    }
   ],
   "source": [
    "z @ weights_torch"
   ]
  },
  {
   "cell_type": "code",
   "execution_count": null,
   "id": "28c97f11",
   "metadata": {},
   "outputs": [],
   "source": []
  },
  {
   "cell_type": "code",
   "execution_count": 22,
   "id": "cc3cdaa6",
   "metadata": {},
   "outputs": [],
   "source": [
    "C = 1e-5 * torch.eye(dim, dtype=torch.float64)"
   ]
  },
  {
   "cell_type": "code",
   "execution_count": 23,
   "id": "abf6299a",
   "metadata": {},
   "outputs": [
    {
     "data": {
      "text/plain": [
       "10"
      ]
     },
     "execution_count": 23,
     "metadata": {},
     "output_type": "execute_result"
    }
   ],
   "source": [
    "capacity"
   ]
  },
  {
   "cell_type": "code",
   "execution_count": 24,
   "id": "5eacc084",
   "metadata": {},
   "outputs": [
    {
     "data": {
      "text/plain": [
       "tensor(0.2000, dtype=torch.float64)"
      ]
     },
     "execution_count": 24,
     "metadata": {},
     "output_type": "execute_result"
    }
   ],
   "source": [
    "weights_torch.min()"
   ]
  },
  {
   "cell_type": "code",
   "execution_count": 25,
   "id": "ab173f55",
   "metadata": {},
   "outputs": [
    {
     "data": {
      "text/plain": [
       "tensor([1.1436, 1.1360, 1.1754, 1.1820, 1.1383, 1.1263, 1.1720, 1.2269, 1.1964,\n",
       "        1.1264], dtype=torch.float64, grad_fn=<MvBackward0>)"
      ]
     },
     "execution_count": 25,
     "metadata": {},
     "output_type": "execute_result"
    }
   ],
   "source": [
    "torch.sigmoid(particles) @ weights_torch"
   ]
  },
  {
   "cell_type": "code",
   "execution_count": 28,
   "id": "51b74007",
   "metadata": {},
   "outputs": [],
   "source": [
    "best_val = np.inf\n",
    "best_particle = None\n",
    "\n",
    "num_iters = 1_000\n",
    "\n",
    "history = torch.zeros(num_iters, dtype=torch.float64)\n",
    "rounded_history = torch.zeros(num_iters, dtype=torch.float64)\n",
    "\n",
    "for i in range(num_iters):\n",
    "    vals = regularized_potential(particles)\n",
    "    vals.sum().backward()\n",
    "    beta = 1 * np.sin(i / 2000) ** 2 + 10\n",
    "    with torch.no_grad():\n",
    "        # C1 = C + 1e-5 * torch.eye(dim, dtype=torch.float64)\n",
    "        # sqrt_C1 = torch.linalg.cholesky(C1, upper=False)\n",
    "        \n",
    "        # particles += -particles.grad @ C1 * h + np.sqrt(2 * h / beta) * torch.randn_like(particles) @ sqrt_C1\n",
    "        particles += -particles.grad * h + np.sqrt(2 * h / beta) * torch.randn_like(particles)\n",
    "        # torch.clip(particles, min=-1, max=1, out=particles)\n",
    "        \n",
    "        z = torch.sigmoid(particles)\n",
    "        rounded_z = torch.round(z)\n",
    "        mask = isvalid(rounded_z)\n",
    "        \n",
    "        if mask.sum() > 0:\n",
    "            rounded_vals = potential(rounded_z[mask])\n",
    "            rounded_history[i] = rounded_vals.min()\n",
    "        else:\n",
    "            rounded_history[i] = best_val\n",
    "        \n",
    "        history[i] = vals.min()\n",
    "        C = (1 - 0.1 / counter) * C + (0.1 / counter) * covariance(particles)\n",
    "        \n",
    "        if rounded_history[i] < best_val:\n",
    "            jj = torch.argmin(rounded_vals)\n",
    "            best_particle = particles[mask][jj].detach().clone()\n",
    "            best_val = rounded_history[i]\n",
    "    \n",
    "    counter += 1\n",
    "    particles.grad.zero_()"
   ]
  },
  {
   "cell_type": "code",
   "execution_count": 30,
   "id": "397af392",
   "metadata": {},
   "outputs": [
    {
     "data": {
      "text/plain": [
       "[<matplotlib.lines.Line2D at 0x311230850>]"
      ]
     },
     "execution_count": 30,
     "metadata": {},
     "output_type": "execute_result"
    },
    {
     "data": {
      "image/png": "[encoded data removed]",
      "text/plain": [
       "<Figure size 1000x500 with 2 Axes>"
      ]
     },
     "metadata": {},
     "output_type": "display_data"
    }
   ],
   "source": [
    "fig, axs = plt.subplots(1, 2, figsize=(10, 5))\n",
    "\n",
    "axs[0].plot(history)\n",
    "axs[1].plot(rounded_history)"
   ]
  },
  {
   "cell_type": "code",
   "execution_count": 31,
   "id": "948fe626",
   "metadata": {},
   "outputs": [
    {
     "data": {
      "text/plain": [
       "tensor(-38., dtype=torch.float64)"
      ]
     },
     "execution_count": 31,
     "metadata": {},
     "output_type": "execute_result"
    }
   ],
   "source": [
    "rounded_history.min()"
   ]
  },
  {
   "cell_type": "code",
   "execution_count": null,
   "id": "0de35450",
   "metadata": {},
   "outputs": [],
   "source": []
  },
  {
   "cell_type": "code",
   "execution_count": null,
   "id": "3cc89d27",
   "metadata": {},
   "outputs": [],
   "source": []
  },
  {
   "cell_type": "code",
   "execution_count": null,
   "id": "0a837238",
   "metadata": {},
   "outputs": [],
   "source": []
  },
  {
   "cell_type": "code",
   "execution_count": null,
   "id": "34db6bf8",
   "metadata": {},
   "outputs": [],
   "source": []
  },
  {
   "cell_type": "code",
   "execution_count": null,
   "id": "ca9cf06a",
   "metadata": {},
   "outputs": [],
   "source": []
  },
  {
   "cell_type": "code",
   "execution_count": null,
   "id": "7c8105c4",
   "metadata": {},
   "outputs": [],
   "source": []
  },
  {
   "cell_type": "code",
   "execution_count": null,
   "id": "e2e48412",
   "metadata": {},
   "outputs": [],
   "source": []
  },
  {
   "cell_type": "code",
   "execution_count": null,
   "id": "1e767c65",
   "metadata": {},
   "outputs": [],
   "source": []
  },
  {
   "cell_type": "code",
   "execution_count": null,
   "id": "1c94dea1",
   "metadata": {},
   "outputs": [],
   "source": []
  },
  {
   "cell_type": "code",
   "execution_count": null,
   "id": "28db5f8b",
   "metadata": {},
   "outputs": [],
   "source": []
  },
  {
   "cell_type": "code",
   "execution_count": null,
   "id": "086d9233",
   "metadata": {},
   "outputs": [],
   "source": []
  },
  {
   "cell_type": "code",
   "execution_count": null,
   "id": "e8047651",
   "metadata": {},
   "outputs": [],
   "source": []
  },
  {
   "cell_type": "code",
   "execution_count": null,
   "id": "b70ea577",
   "metadata": {},
   "outputs": [],
   "source": []
  },
  {
   "cell_type": "code",
   "execution_count": null,
   "id": "b75c854e",
   "metadata": {},
   "outputs": [],
   "source": []
  },
  {
   "cell_type": "code",
   "execution_count": 123,
   "id": "50372fa5",
   "metadata": {},
   "outputs": [],
   "source": [
    "potential = lambda x: -torch.einsum('...i,ij,...j', x, Q, x)\n",
    "isvalid = lambda x: (x >= 0).all(axis=-1) * (x <= 1).all(axis=-1) * (x @ weights <= capacity)\n",
    "\n",
    "K = 0\n",
    "def regularized_potential(x):\n",
    "    with torch.no_grad():\n",
    "        mask = isvalid(torch.round(x)).to(torch.float64)\n",
    "    \n",
    "    vals = potential(x)\n",
    "    return mask * vals \\\n",
    "            + 10 * (1 - mask) * (torch.max(torch.tensor(0), x @ weights - capacity)) ** 2 \\\n",
    "            + 10 * (1 - mask) * (torch.max(torch.tensor(0), -particles) ** 2).sum(axis=-1) \\\n",
    "            + 10 * (1 - mask) * (torch.max(torch.tensor(0), particles - 1) ** 2).sum(axis=-1)"
   ]
  },
  {
   "cell_type": "code",
   "execution_count": 124,
   "id": "5c6c2545",
   "metadata": {},
   "outputs": [],
   "source": [
    "num_particles = 10\n",
    "particles = np.random.normal(0, 0.1, (num_particles, dim))\n",
    "particles = torch.tensor(particles, dtype=torch.float64, requires_grad=True)\n",
    "\n",
    "counter = 2"
   ]
  },
  {
   "cell_type": "code",
   "execution_count": 125,
   "id": "d97fa801",
   "metadata": {},
   "outputs": [],
   "source": [
    "h = 0.01"
   ]
  },
  {
   "cell_type": "code",
   "execution_count": 126,
   "id": "0ba85148",
   "metadata": {},
   "outputs": [],
   "source": [
    "best_val = np.inf\n",
    "best_particle = None\n",
    "\n",
    "num_iters = 5000\n",
    "counter = 2\n",
    "\n",
    "history = torch.zeros(num_iters, dtype=torch.float64)\n",
    "rounded_history = torch.zeros(num_iters, dtype=torch.float64)\n",
    "for i in range(num_iters):\n",
    "    vals = regularized_potential(particles)\n",
    "    vals.sum().backward()\n",
    "    beta = 10 * np.sin(i / 1000) ** 2 + 1\n",
    "    with torch.no_grad():\n",
    "        # C1 = C + 1e-5 * torch.eye(dim, dtype=torch.float64)\n",
    "        # sqrt_C1 = torch.linalg.cholesky(C1, upper=False)\n",
    "        \n",
    "        # particles += -particles.grad @ C1 * h + np.sqrt(2 * h / beta) * torch.randn_like(particles) @ sqrt_C1\n",
    "        particles += -particles.grad * h + np.sqrt(2 * h / beta) * torch.randn_like(particles)\n",
    "        \n",
    "        rounded_particles = torch.round(particles).to(torch.float64)\n",
    "        rounded_vals = regularized_potential(rounded_particles)\n",
    "        history[i] = vals.min()\n",
    "        rounded_history[i] = rounded_vals.min()\n",
    "    \n",
    "        # C = (1 - 0.1 / counter) * C + (0.1 / counter) * covariance(particles)\n",
    "        \n",
    "        if rounded_history[i] < best_val:\n",
    "            jj = torch.argmin(rounded_vals)\n",
    "            best_particle = rounded_particles[jj].detach().clone()\n",
    "            best_val = rounded_history[i]\n",
    "    \n",
    "    counter += 1\n",
    "    particles.grad.zero_()"
   ]
  },
  {
   "cell_type": "code",
   "execution_count": 127,
   "id": "c47c73ce",
   "metadata": {
    "scrolled": true
   },
   "outputs": [
    {
     "data": {
      "text/plain": [
       "tensor(-38., dtype=torch.float64)"
      ]
     },
     "execution_count": 127,
     "metadata": {},
     "output_type": "execute_result"
    }
   ],
   "source": [
    "rounded_history.min()"
   ]
  },
  {
   "cell_type": "code",
   "execution_count": 128,
   "id": "06a69bbc",
   "metadata": {},
   "outputs": [
    {
     "data": {
      "text/plain": [
       "tensor(-87.1383, dtype=torch.float64)"
      ]
     },
     "execution_count": 128,
     "metadata": {},
     "output_type": "execute_result"
    }
   ],
   "source": [
    "history.min()"
   ]
  },
  {
   "cell_type": "code",
   "execution_count": 129,
   "id": "d8adbbb3",
   "metadata": {
    "scrolled": false
   },
   "outputs": [
    {
     "data": {
      "text/plain": [
       "[<matplotlib.lines.Line2D at 0x3060b6c80>]"
      ]
     },
     "execution_count": 129,
     "metadata": {},
     "output_type": "execute_result"
    },
    {
     "data": {
      "image/png": "[encoded data removed]",
      "text/plain": [
       "<Figure size 1100x300 with 2 Axes>"
      ]
     },
     "metadata": {},
     "output_type": "display_data"
    }
   ],
   "source": [
    "fig, axs = plt.subplots(1, 2, figsize=(11, 3))\n",
    "\n",
    "axs[0].plot(history)\n",
    "axs[1].plot(rounded_history)"
   ]
  },
  {
   "cell_type": "code",
   "execution_count": 130,
   "id": "1cdbb99b",
   "metadata": {},
   "outputs": [
    {
     "data": {
      "text/plain": [
       "tensor([1., 1., -0., 1., -0.], dtype=torch.float64)"
      ]
     },
     "execution_count": 130,
     "metadata": {},
     "output_type": "execute_result"
    }
   ],
   "source": [
    "best_particle"
   ]
  },
  {
   "cell_type": "code",
   "execution_count": 131,
   "id": "8e006ef1",
   "metadata": {},
   "outputs": [
    {
     "data": {
      "text/plain": [
       "tensor(-38., dtype=torch.float64)"
      ]
     },
     "execution_count": 131,
     "metadata": {},
     "output_type": "execute_result"
    }
   ],
   "source": [
    "potential(best_particle)"
   ]
  },
  {
   "cell_type": "code",
   "execution_count": 132,
   "id": "204ed804",
   "metadata": {},
   "outputs": [
    {
     "data": {
      "text/plain": [
       "tensor(10., dtype=torch.float64)"
      ]
     },
     "execution_count": 132,
     "metadata": {},
     "output_type": "execute_result"
    }
   ],
   "source": [
    "best_particle @ weights"
   ]
  },
  {
   "cell_type": "code",
   "execution_count": 133,
   "id": "04c81b46",
   "metadata": {},
   "outputs": [
    {
     "data": {
      "text/plain": [
       "tensor(True)"
      ]
     },
     "execution_count": 133,
     "metadata": {},
     "output_type": "execute_result"
    }
   ],
   "source": [
    "isvalid(best_particle)"
   ]
  },
  {
   "cell_type": "code",
   "execution_count": null,
   "id": "b306e711",
   "metadata": {},
   "outputs": [],
   "source": []
  },
  {
   "cell_type": "code",
   "execution_count": null,
   "id": "2b6e6cff",
   "metadata": {},
   "outputs": [],
   "source": []
  }
 ],
 "metadata": {
  "kernelspec": {
   "display_name": "Python 3 (ipykernel)",
   "language": "python",
   "name": "python3"
  },
  "language_info": {
   "codemirror_mode": {
    "name": "ipython",
    "version": 3
   },
   "file_extension": ".py",
   "mimetype": "text/x-python",
   "name": "python",
   "nbconvert_exporter": "python",
   "pygments_lexer": "ipython3",
   "version": "3.10.6"
  }
 },
 "nbformat": 4,
 "nbformat_minor": 5
}
