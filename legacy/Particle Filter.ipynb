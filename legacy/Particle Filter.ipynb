{
 "cells": [
  {
   "cell_type": "markdown",
   "id": "8bac2e43",
   "metadata": {},
   "source": [
    "https://arxiv.org/abs/2408.00888\n",
    "\n",
    "https://arxiv.org/abs/1802.10174\n",
    "\n",
    "https://arxiv.org/abs/2212.04400\n",
    "\n",
    "https://cedric.cnam.fr/~soutif/QKP/format.html"
   ]
  },
  {
   "cell_type": "code",
   "execution_count": 3,
   "id": "c88433b4",
   "metadata": {},
   "outputs": [],
   "source": [
    "import numpy as np\n",
    "import matplotlib.pyplot as plt\n",
    "import pandas as pd\n",
    "\n",
    "import yfinance as yf\n",
    "\n",
    "import scipy\n",
    "import cvxpy as cp"
   ]
  },
  {
   "cell_type": "code",
   "execution_count": 4,
   "id": "4e844fb8",
   "metadata": {},
   "outputs": [],
   "source": [
    "def covariance(samples):\n",
    "    mean_zero_samples = samples - samples.mean(axis=0)[None, :]\n",
    "    C = (mean_zero_samples[:, :, None] * mean_zero_samples[:, None, :]).mean(axis=0)\n",
    "    return C"
   ]
  },
  {
   "cell_type": "code",
   "execution_count": 5,
   "id": "474808b0",
   "metadata": {},
   "outputs": [],
   "source": [
    "def sigmoid(x):\n",
    "    out = 0 * x\n",
    "    mask = x > 0\n",
    "    \n",
    "    exp_neg_x = np.exp(-x[mask])\n",
    "    out[mask] = 1 / (1 + exp_neg_x)\n",
    "    \n",
    "    exp_x = np.exp(x[~mask])\n",
    "    out[~mask] = exp_x / (1 + exp_x)\n",
    "    \n",
    "    return out"
   ]
  },
  {
   "cell_type": "code",
   "execution_count": 348,
   "id": "cdb6f84a",
   "metadata": {},
   "outputs": [],
   "source": [
    "dim = 5\n",
    "Q = np.array([\n",
    "    [8, 2, 3, 4, 5],\n",
    "    [2, 7, 2, 3, 4],\n",
    "    [3, 2, 6, 2, 3],\n",
    "    [4, 3, 2, 5, 2],\n",
    "    [5, 4, 3, 2, 9]\n",
    "])\n",
    "weights = np.array([2, 3, 4, 5, 9])\n",
    "capacity = 10\n",
    "\n",
    "normalized_weights = weights / capacity"
   ]
  },
  {
   "cell_type": "code",
   "execution_count": 349,
   "id": "263750a7",
   "metadata": {},
   "outputs": [],
   "source": [
    "raw_potential = lambda x: -np.einsum('ni,ij,nj->n', x, Q, x)\n",
    "raw_isvalid = lambda x: (x @ normalized_weights <= 1) * (x >= 0).all(axis=-1)"
   ]
  },
  {
   "cell_type": "code",
   "execution_count": 350,
   "id": "176762e7",
   "metadata": {},
   "outputs": [],
   "source": [
    "def mirror_map(x):\n",
    "    assert len(x.shape) == 2, 'Input must be 2 dimensional'\n",
    "    z = sigmoid(x)\n",
    "    # a = np.max(x, axis=-1)\n",
    "    # exp_x = np.exp(x - a[:, None])\n",
    "    # z = exp_x / (np.exp(-a) + exp_x @ normalized_weights)[:, None]\n",
    "    return z"
   ]
  },
  {
   "cell_type": "code",
   "execution_count": 351,
   "id": "1862f78f",
   "metadata": {},
   "outputs": [],
   "source": [
    "def potential(x):\n",
    "    z = mirror_map(x)\n",
    "    return raw_potential(z)\n",
    "\n",
    "def isvalid(x):\n",
    "    z = mirror_map(x)\n",
    "    return raw_isvalid(np.round(z))"
   ]
  },
  {
   "cell_type": "code",
   "execution_count": 352,
   "id": "e5a28a11",
   "metadata": {},
   "outputs": [],
   "source": [
    "particle_filter_samples = 100\n",
    "particle = np.zeros(dim)"
   ]
  },
  {
   "cell_type": "code",
   "execution_count": 353,
   "id": "e8359c58",
   "metadata": {},
   "outputs": [],
   "source": [
    "working_gamma = 0.1"
   ]
  },
  {
   "cell_type": "code",
   "execution_count": 354,
   "id": "7f2237e0",
   "metadata": {
    "scrolled": true
   },
   "outputs": [
    {
     "name": "stdout",
     "output_type": "stream",
     "text": [
      "[-23.53804468]\n",
      "[-23.73005593]\n",
      "[-24.01340585]\n",
      "[-24.87754576]\n",
      "[-25.54765684]\n",
      "[-25.95421338]\n",
      "[-26.43262792]\n",
      "[-27.17556323]\n",
      "[-28.06696294]\n",
      "[-28.33720824]\n"
     ]
    }
   ],
   "source": [
    "log_w = np.zeros(particle_filter_samples)\n",
    "for i in range(10):\n",
    "    noise = np.random.normal(0, 1, (particle_filter_samples, dim))\n",
    "    samples = particle[None, :] + working_gamma * noise\n",
    "\n",
    "    valid_samples = isvalid(samples)\n",
    "    invalid_samples = ~valid_samples\n",
    "    \n",
    "    log_w[valid_samples] = -potential(samples[valid_samples])\n",
    "    log_w[invalid_samples] = log_w[valid_samples].min()\n",
    "\n",
    "    w = np.exp(log_w - log_w.max())\n",
    "    w[invalid_samples] = 0\n",
    "    w /= w.sum()\n",
    "    \n",
    "    particle += w @ (samples - particle[None, :])\n",
    "    \n",
    "    print(potential(particle.reshape(1, -1)))"
   ]
  },
  {
   "cell_type": "code",
   "execution_count": 355,
   "id": "3bdd7d33",
   "metadata": {},
   "outputs": [
    {
     "data": {
      "text/plain": [
       "array([10.])"
      ]
     },
     "execution_count": 355,
     "metadata": {},
     "output_type": "execute_result"
    }
   ],
   "source": [
    "z = mirror_map(particle.reshape(1, -1))\n",
    "z = np.round(z)\n",
    "z @ weights"
   ]
  },
  {
   "cell_type": "code",
   "execution_count": 356,
   "id": "626762a9",
   "metadata": {},
   "outputs": [
    {
     "data": {
      "text/plain": [
       "array([-38.])"
      ]
     },
     "execution_count": 356,
     "metadata": {},
     "output_type": "execute_result"
    }
   ],
   "source": [
    "raw_potential(z)"
   ]
  },
  {
   "cell_type": "code",
   "execution_count": 357,
   "id": "67ea60f3",
   "metadata": {},
   "outputs": [
    {
     "data": {
      "text/plain": [
       "array([[1., 1., 0., 1., 0.]])"
      ]
     },
     "execution_count": 357,
     "metadata": {},
     "output_type": "execute_result"
    }
   ],
   "source": [
    "z"
   ]
  },
  {
   "cell_type": "code",
   "execution_count": 358,
   "id": "dbc521e8",
   "metadata": {},
   "outputs": [
    {
     "data": {
      "text/plain": [
       "10"
      ]
     },
     "execution_count": 358,
     "metadata": {},
     "output_type": "execute_result"
    }
   ],
   "source": [
    "capacity"
   ]
  },
  {
   "cell_type": "code",
   "execution_count": 359,
   "id": "deb7c431",
   "metadata": {},
   "outputs": [
    {
     "data": {
      "text/plain": [
       "array([[1., 1., 0., 1., 0.]])"
      ]
     },
     "execution_count": 359,
     "metadata": {},
     "output_type": "execute_result"
    }
   ],
   "source": [
    "z"
   ]
  },
  {
   "cell_type": "markdown",
   "id": "f8c7b8ac",
   "metadata": {},
   "source": [
    "# HARD"
   ]
  },
  {
   "cell_type": "code",
   "execution_count": 425,
   "id": "7c716e70",
   "metadata": {},
   "outputs": [],
   "source": [
    "with open('jeu_100_50_3.txt', 'r') as f:\n",
    "    lines = f.read().split('\\n')"
   ]
  },
  {
   "cell_type": "code",
   "execution_count": 426,
   "id": "5af280a6",
   "metadata": {},
   "outputs": [],
   "source": [
    "dim = int(lines[1])\n",
    "diag = np.array([int(x) for x in lines[2].split()])"
   ]
  },
  {
   "cell_type": "code",
   "execution_count": 427,
   "id": "dac273ed",
   "metadata": {},
   "outputs": [],
   "source": [
    "off_diag = []\n",
    "\n",
    "for i in range(3, dim + 3 - 1):\n",
    "    off_diag.append(np.array([int(x) for x in lines[i].split()]))"
   ]
  },
  {
   "cell_type": "code",
   "execution_count": 428,
   "id": "202bc315",
   "metadata": {},
   "outputs": [
    {
     "name": "stdout",
     "output_type": "stream",
     "text": [
      "0\n"
     ]
    }
   ],
   "source": [
    "constraint_type = int(lines[dim + 3])\n",
    "# 0 if the constraint is of type <= (i.e. always since we are considering (QKP) instances)\n",
    "# and 1 if the constraint is an eglity constraint\n",
    "print(constraint_type) "
   ]
  },
  {
   "cell_type": "code",
   "execution_count": 429,
   "id": "f346cc54",
   "metadata": {},
   "outputs": [
    {
     "data": {
      "text/plain": [
       "156"
      ]
     },
     "execution_count": 429,
     "metadata": {},
     "output_type": "execute_result"
    }
   ],
   "source": [
    "capacity = int(lines[dim + 3 + 1])\n",
    "capacity"
   ]
  },
  {
   "cell_type": "code",
   "execution_count": 430,
   "id": "b6377856",
   "metadata": {},
   "outputs": [],
   "source": [
    "weights = np.array([int(x) for x in lines[dim + 3 + 2].split()])"
   ]
  },
  {
   "cell_type": "code",
   "execution_count": 431,
   "id": "3f9c8bba",
   "metadata": {},
   "outputs": [],
   "source": [
    "A = np.zeros((dim, dim))\n",
    "for i in range(dim):\n",
    "    A[i, i] = diag[i] / 2\n",
    "    if i < dim - 1:\n",
    "        A[i, i+1:] = off_diag[i] / 2\n",
    "        \n",
    "A += A.T"
   ]
  },
  {
   "cell_type": "code",
   "execution_count": 432,
   "id": "9b491c6b",
   "metadata": {},
   "outputs": [],
   "source": [
    "normalized_weights = weights / capacity"
   ]
  },
  {
   "cell_type": "code",
   "execution_count": 433,
   "id": "3e0fa210",
   "metadata": {},
   "outputs": [],
   "source": [
    "raw_potential = lambda x: -np.einsum('ni,ij,nj->n', x, A, x)\n",
    "raw_isvalid = lambda x: (x >= 0).all(axis=-1) * (x @ normalized_weights <= 1)"
   ]
  },
  {
   "cell_type": "code",
   "execution_count": 434,
   "id": "56dba1f5",
   "metadata": {},
   "outputs": [],
   "source": [
    "def potential(x):\n",
    "    z = mirror_map(x)\n",
    "    return raw_potential(np.round(z))\n",
    "\n",
    "def isvalid(x):\n",
    "    z = mirror_map(x)\n",
    "    return raw_isvalid(np.round(z))"
   ]
  },
  {
   "cell_type": "code",
   "execution_count": 435,
   "id": "e20d2206",
   "metadata": {},
   "outputs": [],
   "source": [
    "particle_filter_samples = 100\n",
    "particle = np.zeros(dim)"
   ]
  },
  {
   "cell_type": "code",
   "execution_count": 436,
   "id": "7bc0ba30",
   "metadata": {},
   "outputs": [
    {
     "data": {
      "text/plain": [
       "array([77,  6, 73,  1,  8])"
      ]
     },
     "execution_count": 436,
     "metadata": {},
     "output_type": "execute_result"
    }
   ],
   "source": [
    "np.random.choice(range(dim), 5, replace=False)"
   ]
  },
  {
   "cell_type": "code",
   "execution_count": 447,
   "id": "f6db8bea",
   "metadata": {},
   "outputs": [
    {
     "data": {
      "text/plain": [
       "1000"
      ]
     },
     "execution_count": 447,
     "metadata": {},
     "output_type": "execute_result"
    }
   ],
   "source": [
    "working_gamma = 0.001\n",
    "num_iters = 1000\n",
    "invalid_counter = 0\n",
    "\n",
    "history = np.zeros(num_iters)\n",
    "rounded_history = np.zeros(num_iters)\n",
    "log_w = np.zeros(particle_filter_samples)\n",
    "\n",
    "for i in range(num_iters):\n",
    "    # support = particle > 0\n",
    "    # support[np.random.choice(range(dim), 2, replace=False)] = True\n",
    "    # noise = np.random.normal(0, 1, (particle_filter_samples, dim)) * support[None, :]\n",
    "    \n",
    "    noise = np.random.normal(0, 1, (particle_filter_samples, dim))\n",
    "    noise /= np.linalg.norm(noise, axis=-1)[:, None]\n",
    "    \n",
    "    samples = particle[None, :] + working_gamma * noise\n",
    "\n",
    "    valid_samples = isvalid(samples)\n",
    "    invalid_samples = ~valid_samples\n",
    "    \n",
    "    if valid_samples.sum() >= 1:\n",
    "        # log_gaussian_pdf = -((samples[valid_samples] - particle[None, :]) ** 2).sum(axis=-1) \\\n",
    "        #                         / (2 * working_gamma)\n",
    "        # log_w[valid_samples] = -potential(samples[valid_samples]) + log_gaussian_pdf\n",
    "        log_w[valid_samples] = -potential(samples[valid_samples])\n",
    "        log_w[invalid_samples] = log_w[valid_samples].min()\n",
    "\n",
    "        w = np.exp(log_w - log_w.max())\n",
    "        w[invalid_samples] = 0\n",
    "        w /= w.sum()\n",
    "\n",
    "        particle += w @ (samples - particle[None, :])\n",
    "    else:\n",
    "        invalid_counter += 1\n",
    "    \n",
    "    history[i] = potential(particle.reshape(1, -1))[0]\n",
    "    \n",
    "    z = np.round(mirror_map(particle.reshape(1, -1)))\n",
    "    rounded_history[i] = raw_potential(z)[0]\n",
    "invalid_counter"
   ]
  },
  {
   "cell_type": "code",
   "execution_count": 448,
   "id": "419bfdba",
   "metadata": {},
   "outputs": [
    {
     "data": {
      "text/plain": [
       "array([0., 0., 0., 0., 0., 0., 0., 0., 0., 0., 0., 0., 0., 0., 0., 0., 0.,\n",
       "       0., 0., 0., 0., 0., 0., 0., 0., 0., 0., 0., 0., 0., 0., 0., 0., 0.,\n",
       "       0., 0., 0., 0., 0., 0., 0., 0., 0., 0., 0., 0., 0., 0., 0., 0., 0.,\n",
       "       0., 0., 0., 0., 0., 0., 0., 0., 0., 0., 0., 0., 0., 0., 0., 0., 0.,\n",
       "       0., 0., 0., 0., 0., 0., 0., 0., 0., 0., 0., 0., 0., 0., 0., 0., 0.,\n",
       "       0., 0., 0., 0., 0., 0., 0., 0., 0., 0., 0., 0., 0., 0., 0.])"
      ]
     },
     "execution_count": 448,
     "metadata": {},
     "output_type": "execute_result"
    }
   ],
   "source": [
    "particle"
   ]
  },
  {
   "cell_type": "code",
   "execution_count": 439,
   "id": "59a96cde",
   "metadata": {},
   "outputs": [
    {
     "data": {
      "text/plain": [
       "[<matplotlib.lines.Line2D at 0x15c4cff40>]"
      ]
     },
     "execution_count": 439,
     "metadata": {},
     "output_type": "execute_result"
    },
    {
     "data": {
      "image/png": "[encoded data removed]",
      "text/plain": [
       "<Figure size 1200x400 with 2 Axes>"
      ]
     },
     "metadata": {},
     "output_type": "display_data"
    }
   ],
   "source": [
    "fig, axs = plt.subplots(1, 2, figsize=(12, 4))\n",
    "\n",
    "axs[0].plot(history)\n",
    "axs[1].plot(rounded_history)"
   ]
  },
  {
   "cell_type": "code",
   "execution_count": 440,
   "id": "196ec675",
   "metadata": {},
   "outputs": [
    {
     "data": {
      "text/plain": [
       "np.float64(0.0)"
      ]
     },
     "execution_count": 440,
     "metadata": {},
     "output_type": "execute_result"
    }
   ],
   "source": [
    "z = np.round(mirror_map(particle.reshape(1, -1))).flatten()\n",
    "z @ A @ z"
   ]
  },
  {
   "cell_type": "code",
   "execution_count": 441,
   "id": "523fc36a",
   "metadata": {},
   "outputs": [
    {
     "data": {
      "text/plain": [
       "156"
      ]
     },
     "execution_count": 441,
     "metadata": {},
     "output_type": "execute_result"
    }
   ],
   "source": [
    "capacity"
   ]
  },
  {
   "cell_type": "code",
   "execution_count": 442,
   "id": "3d731a96",
   "metadata": {},
   "outputs": [
    {
     "data": {
      "text/plain": [
       "np.float64(0.0)"
      ]
     },
     "execution_count": 442,
     "metadata": {},
     "output_type": "execute_result"
    }
   ],
   "source": [
    "z @ weights"
   ]
  },
  {
   "cell_type": "code",
   "execution_count": 377,
   "id": "23b145d6",
   "metadata": {},
   "outputs": [],
   "source": [
    "# 18558.00\n",
    "# 56525.00\n",
    "# 3752.00\n",
    "# 50382.00\n",
    "# 61494.00"
   ]
  },
  {
   "cell_type": "code",
   "execution_count": null,
   "id": "13d3fc93",
   "metadata": {},
   "outputs": [],
   "source": []
  },
  {
   "cell_type": "code",
   "execution_count": null,
   "id": "8b2cd3c0",
   "metadata": {},
   "outputs": [],
   "source": []
  }
 ],
 "metadata": {
  "kernelspec": {
   "display_name": "Python 3 (ipykernel)",
   "language": "python",
   "name": "python3"
  },
  "language_info": {
   "codemirror_mode": {
    "name": "ipython",
    "version": 3
   },
   "file_extension": ".py",
   "mimetype": "text/x-python",
   "name": "python",
   "nbconvert_exporter": "python",
   "pygments_lexer": "ipython3",
   "version": "3.10.6"
  }
 },
 "nbformat": 4,
 "nbformat_minor": 5
}
