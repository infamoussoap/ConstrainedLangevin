{
 "cells": [
  {
   "cell_type": "markdown",
   "id": "18c82a7e",
   "metadata": {},
   "source": [
    "https://arxiv.org/abs/1802.10174\n",
    "\n",
    "https://cedric.cnam.fr/~soutif/QKP/QKP.html"
   ]
  },
  {
   "cell_type": "code",
   "execution_count": 1,
   "id": "c88433b4",
   "metadata": {},
   "outputs": [],
   "source": [
    "import numpy as np\n",
    "import matplotlib.pyplot as plt\n",
    "import pandas as pd\n",
    "import yfinance as yf\n",
    "import torch\n",
    "import scipy\n",
    "import cvxpy as cp"
   ]
  },
  {
   "cell_type": "code",
   "execution_count": 2,
   "id": "6c120c99",
   "metadata": {},
   "outputs": [],
   "source": [
    "def covariance(samples):\n",
    "    mean_zero_samples = samples - samples.mean(axis=0)[None, :]\n",
    "    C = (mean_zero_samples[:, :, None] * mean_zero_samples[:, None, :]).mean(axis=0)\n",
    "    return C"
   ]
  },
  {
   "cell_type": "code",
   "execution_count": 160,
   "id": "7c716e70",
   "metadata": {},
   "outputs": [],
   "source": [
    "with open('jeu_100_50_5.txt', 'r') as f:\n",
    "    lines = f.read().split('\\n')"
   ]
  },
  {
   "cell_type": "code",
   "execution_count": 161,
   "id": "5af280a6",
   "metadata": {},
   "outputs": [],
   "source": [
    "dim = int(lines[1])\n",
    "diag = np.array([int(x) for x in lines[2].split()])"
   ]
  },
  {
   "cell_type": "code",
   "execution_count": 162,
   "id": "dac273ed",
   "metadata": {},
   "outputs": [],
   "source": [
    "off_diag = []\n",
    "\n",
    "for i in range(3, dim + 3 - 1):\n",
    "    off_diag.append(np.array([int(x) for x in lines[i].split()]))"
   ]
  },
  {
   "cell_type": "code",
   "execution_count": 163,
   "id": "202bc315",
   "metadata": {},
   "outputs": [
    {
     "name": "stdout",
     "output_type": "stream",
     "text": [
      "0\n"
     ]
    }
   ],
   "source": [
    "constraint_type = int(lines[dim + 3])\n",
    "# 0 if the constraint is of type <= (i.e. always since we are considering (QKP) instances)\n",
    "# and 1 if the constraint is an eglity constraint\n",
    "print(constraint_type) "
   ]
  },
  {
   "cell_type": "code",
   "execution_count": 164,
   "id": "f346cc54",
   "metadata": {},
   "outputs": [
    {
     "data": {
      "text/plain": [
       "2536"
      ]
     },
     "execution_count": 164,
     "metadata": {},
     "output_type": "execute_result"
    }
   ],
   "source": [
    "capacity = int(lines[dim + 3 + 1])\n",
    "capacity"
   ]
  },
  {
   "cell_type": "code",
   "execution_count": 165,
   "id": "b6377856",
   "metadata": {},
   "outputs": [],
   "source": [
    "weights = np.array([int(x) for x in lines[dim + 3 + 2].split()])"
   ]
  },
  {
   "cell_type": "code",
   "execution_count": null,
   "id": "dd203b7b",
   "metadata": {},
   "outputs": [],
   "source": []
  },
  {
   "cell_type": "code",
   "execution_count": 166,
   "id": "3f9c8bba",
   "metadata": {},
   "outputs": [],
   "source": [
    "A = np.zeros((dim, dim))\n",
    "for i in range(dim):\n",
    "    A[i, i] = diag[i]\n",
    "    if i < dim - 1:\n",
    "        A[i, i+1:] = off_diag[i]\n",
    "        \n",
    "# A = np.eye(dim)"
   ]
  },
  {
   "cell_type": "code",
   "execution_count": 167,
   "id": "9b491c6b",
   "metadata": {},
   "outputs": [],
   "source": [
    "A_torch = torch.tensor(A, dtype=torch.float64)\n",
    "weights_torch = torch.tensor(weights, dtype=torch.float64) / capacity"
   ]
  },
  {
   "cell_type": "code",
   "execution_count": 168,
   "id": "263750a7",
   "metadata": {},
   "outputs": [],
   "source": [
    "potential = lambda x: -torch.einsum('ni,ij,nj->n', x, A_torch, x)\n",
    "isvalid = lambda x: (x @ weights_torch <= 1)\n",
    "\n",
    "def regularized_potential(x):\n",
    "    with torch.no_grad():\n",
    "        a, _ = torch.max(x, axis=-1)\n",
    "    \n",
    "    exp_x = torch.exp(x - a[:, None])\n",
    "    \n",
    "    z = exp_x / (torch.exp(-a) + exp_x @ weights_torch)[:, None]\n",
    "    # z = torch.exp(x - a[:, None] - torch.log(torch.exp(-a) + exp_x @ weights_torch)[:, None])\n",
    "    with torch.no_grad():\n",
    "        mask = torch.round(z).to(torch.float64)\n",
    "        # mask = isvalid(torch.round(z)).to(torch.float64)\n",
    "    \n",
    "    vals = potential(z) - (x).sum(axis=-1) \\\n",
    "                + (dim + 1) * torch.log(torch.exp(-a) + exp_x @ weights_torch)\n",
    "    return vals"
   ]
  },
  {
   "cell_type": "code",
   "execution_count": 169,
   "id": "20551055",
   "metadata": {},
   "outputs": [],
   "source": [
    "num_particles = 10\n",
    "particles = np.random.randn(*(num_particles, dim)) * 0.1\n",
    "particles = torch.tensor(-particles, dtype=torch.float64, requires_grad=True)\n",
    "h = 0.01\n",
    "counter = 2"
   ]
  },
  {
   "cell_type": "code",
   "execution_count": 170,
   "id": "f1614267",
   "metadata": {},
   "outputs": [],
   "source": [
    "# particles"
   ]
  },
  {
   "cell_type": "code",
   "execution_count": 171,
   "id": "7f0ce5a6",
   "metadata": {},
   "outputs": [],
   "source": [
    "a, _ = torch.max(particles, axis=-1)\n",
    "exp_x = torch.exp(particles - a[:, None])\n",
    "z = exp_x / (torch.exp(-a) + exp_x @ weights_torch)[:, None]"
   ]
  },
  {
   "cell_type": "code",
   "execution_count": 172,
   "id": "fe964827",
   "metadata": {},
   "outputs": [
    {
     "data": {
      "text/plain": [
       "tensor([0.5184, 0.5202, 0.5165, 0.5121, 0.5153, 0.5166, 0.5173, 0.5160, 0.5219,\n",
       "        0.5201], dtype=torch.float64, grad_fn=<MvBackward0>)"
      ]
     },
     "execution_count": 172,
     "metadata": {},
     "output_type": "execute_result"
    }
   ],
   "source": [
    "z @ weights_torch"
   ]
  },
  {
   "cell_type": "code",
   "execution_count": null,
   "id": "28c97f11",
   "metadata": {},
   "outputs": [],
   "source": []
  },
  {
   "cell_type": "code",
   "execution_count": 173,
   "id": "cc3cdaa6",
   "metadata": {},
   "outputs": [],
   "source": [
    "C = 1e-5 * torch.eye(dim, dtype=torch.float64)"
   ]
  },
  {
   "cell_type": "code",
   "execution_count": 174,
   "id": "abf6299a",
   "metadata": {},
   "outputs": [
    {
     "data": {
      "text/plain": [
       "2536"
      ]
     },
     "execution_count": 174,
     "metadata": {},
     "output_type": "execute_result"
    }
   ],
   "source": [
    "capacity"
   ]
  },
  {
   "cell_type": "code",
   "execution_count": 175,
   "id": "5eacc084",
   "metadata": {},
   "outputs": [
    {
     "data": {
      "text/plain": [
       "tensor(0.0012, dtype=torch.float64)"
      ]
     },
     "execution_count": 175,
     "metadata": {},
     "output_type": "execute_result"
    }
   ],
   "source": [
    "weights_torch.min()"
   ]
  },
  {
   "cell_type": "code",
   "execution_count": 176,
   "id": "ab173f55",
   "metadata": {},
   "outputs": [
    {
     "data": {
      "text/plain": [
       "tensor([0.5352, 0.5372, 0.5332, 0.5284, 0.5321, 0.5336, 0.5340, 0.5332, 0.5391,\n",
       "        0.5371], dtype=torch.float64, grad_fn=<MvBackward0>)"
      ]
     },
     "execution_count": 176,
     "metadata": {},
     "output_type": "execute_result"
    }
   ],
   "source": [
    "torch.sigmoid(particles) @ weights_torch"
   ]
  },
  {
   "cell_type": "code",
   "execution_count": 177,
   "id": "51b74007",
   "metadata": {},
   "outputs": [],
   "source": [
    "best_val = np.inf\n",
    "best_particle = None\n",
    "\n",
    "num_iters = 10_000\n",
    "\n",
    "history = torch.zeros(num_iters, dtype=torch.float64)\n",
    "rounded_history = torch.zeros(num_iters, dtype=torch.float64)\n",
    "\n",
    "for i in range(num_iters):\n",
    "    vals = regularized_potential(particles)\n",
    "    vals.sum().backward()\n",
    "    beta = 1 * np.sin(i / 2000) ** 2 + 1\n",
    "    with torch.no_grad():\n",
    "        # C1 = C + 1e-5 * torch.eye(dim, dtype=torch.float64)\n",
    "        # sqrt_C1 = torch.linalg.cholesky(C1, upper=False)\n",
    "        \n",
    "        # particles += -particles.grad @ C1 * h + np.sqrt(2 * h / beta) * torch.randn_like(particles) @ sqrt_C1\n",
    "        particles += -particles.grad * h + np.sqrt(2 * h / beta) * torch.randn_like(particles)\n",
    "        torch.clip(particles, min=-2, max=2, out=particles)\n",
    "        \n",
    "        z = torch.sigmoid(particles)\n",
    "        rounded_z = torch.round(z)\n",
    "        mask = isvalid(rounded_z)\n",
    "        \n",
    "        if mask.sum() > 0:\n",
    "            rounded_vals = potential(rounded_z[mask])\n",
    "            rounded_history[i] = rounded_vals.min()\n",
    "        else:\n",
    "            rounded_history[i] = best_val\n",
    "        \n",
    "        history[i] = vals.min()\n",
    "        C = (1 - 0.1 / counter) * C + (0.1 / counter) * covariance(particles)\n",
    "        \n",
    "        if rounded_history[i] < best_val:\n",
    "            jj = torch.argmin(rounded_vals)\n",
    "            best_particle = particles[mask][jj].detach().clone()\n",
    "            best_val = rounded_history[i]\n",
    "    \n",
    "    counter += 1\n",
    "    particles.grad.zero_()"
   ]
  },
  {
   "cell_type": "code",
   "execution_count": null,
   "id": "b2f51181",
   "metadata": {},
   "outputs": [],
   "source": []
  },
  {
   "cell_type": "code",
   "execution_count": 178,
   "id": "646af6c0",
   "metadata": {},
   "outputs": [],
   "source": [
    "# 18558.00\n",
    "# 56525.00\n",
    "# 3752.00\n",
    "# 50382.00\n",
    "# 61494.00"
   ]
  },
  {
   "cell_type": "code",
   "execution_count": 179,
   "id": "41dfe9bf",
   "metadata": {},
   "outputs": [
    {
     "data": {
      "text/plain": [
       "tensor(-100178.9287, dtype=torch.float64)"
      ]
     },
     "execution_count": 179,
     "metadata": {},
     "output_type": "execute_result"
    }
   ],
   "source": [
    "history.min()"
   ]
  },
  {
   "cell_type": "code",
   "execution_count": 180,
   "id": "52acf1c1",
   "metadata": {},
   "outputs": [
    {
     "data": {
      "text/plain": [
       "2536"
      ]
     },
     "execution_count": 180,
     "metadata": {},
     "output_type": "execute_result"
    }
   ],
   "source": [
    "capacity"
   ]
  },
  {
   "cell_type": "code",
   "execution_count": 181,
   "id": "73765976",
   "metadata": {},
   "outputs": [],
   "source": [
    "best_particle = best_particle.reshape(1, -1)\n",
    "a, _ = torch.max(best_particle, axis=-1)\n",
    "\n",
    "exp_x = torch.exp((best_particle) - a[:, None])\n",
    "z = exp_x / (torch.exp(-a) + exp_x @ weights_torch)[:, None]"
   ]
  },
  {
   "cell_type": "code",
   "execution_count": 182,
   "id": "975e4c97",
   "metadata": {},
   "outputs": [
    {
     "data": {
      "text/plain": [
       "tensor([0.8387], dtype=torch.float64)"
      ]
     },
     "execution_count": 182,
     "metadata": {},
     "output_type": "execute_result"
    }
   ],
   "source": [
    "torch.round(z) @ weights_torch"
   ]
  },
  {
   "cell_type": "code",
   "execution_count": 183,
   "id": "fa9f3881",
   "metadata": {},
   "outputs": [
    {
     "data": {
      "text/plain": [
       "tensor([0.7840], dtype=torch.float64)"
      ]
     },
     "execution_count": 183,
     "metadata": {},
     "output_type": "execute_result"
    }
   ],
   "source": [
    "z @ weights_torch"
   ]
  },
  {
   "cell_type": "code",
   "execution_count": 184,
   "id": "9baa689f",
   "metadata": {},
   "outputs": [
    {
     "data": {
      "text/plain": [
       "tensor([-87961.], dtype=torch.float64)"
      ]
     },
     "execution_count": 184,
     "metadata": {},
     "output_type": "execute_result"
    }
   ],
   "source": [
    "potential(torch.round(z).reshape(1, -1))"
   ]
  },
  {
   "cell_type": "code",
   "execution_count": 185,
   "id": "5efc7788",
   "metadata": {},
   "outputs": [
    {
     "data": {
      "text/plain": [
       "2536"
      ]
     },
     "execution_count": 185,
     "metadata": {},
     "output_type": "execute_result"
    }
   ],
   "source": [
    "capacity"
   ]
  },
  {
   "cell_type": "code",
   "execution_count": 186,
   "id": "d7fa10ed",
   "metadata": {},
   "outputs": [
    {
     "data": {
      "text/plain": [
       "array([2127.])"
      ]
     },
     "execution_count": 186,
     "metadata": {},
     "output_type": "execute_result"
    }
   ],
   "source": [
    "torch.round(z).detach().numpy() @ weights "
   ]
  },
  {
   "cell_type": "code",
   "execution_count": 187,
   "id": "fc6bff6c",
   "metadata": {},
   "outputs": [
    {
     "data": {
      "text/plain": [
       "(100, 100)"
      ]
     },
     "execution_count": 187,
     "metadata": {},
     "output_type": "execute_result"
    }
   ],
   "source": [
    "A.shape"
   ]
  },
  {
   "cell_type": "code",
   "execution_count": 188,
   "id": "4e47aad7",
   "metadata": {},
   "outputs": [
    {
     "data": {
      "text/plain": [
       "array([[87961.]])"
      ]
     },
     "execution_count": 188,
     "metadata": {},
     "output_type": "execute_result"
    }
   ],
   "source": [
    "z_temp = torch.round(z).detach().numpy()\n",
    "z_temp @ A @ z_temp.T"
   ]
  },
  {
   "cell_type": "code",
   "execution_count": 189,
   "id": "df4474fa",
   "metadata": {},
   "outputs": [
    {
     "data": {
      "text/plain": [
       "array([[0., 0., 2., 1., 2., 0., 2., 1., 0., 0., 2., 1., 0., 2., 0., 0.,\n",
       "        2., 1., 0., 1., 2., 1., 1., 2., 2., 1., 1., 2., 2., 2., 0., 1.,\n",
       "        2., 2., 2., 1., 0., 1., 1., 2., 1., 2., 0., 1., 2., 2., 0., 1.,\n",
       "        1., 0., 1., 1., 0., 2., 2., 2., 0., 2., 1., 2., 0., 2., 2., 0.,\n",
       "        1., 0., 0., 1., 2., 2., 0., 1., 1., 1., 1., 1., 0., 1., 1., 2.,\n",
       "        1., 0., 2., 0., 0., 1., 0., 2., 1., 1., 2., 2., 1., 1., 1., 0.,\n",
       "        2., 2., 2., 0.]])"
      ]
     },
     "execution_count": 189,
     "metadata": {},
     "output_type": "execute_result"
    }
   ],
   "source": [
    "z_temp"
   ]
  },
  {
   "cell_type": "code",
   "execution_count": null,
   "id": "fa661c70",
   "metadata": {},
   "outputs": [],
   "source": []
  },
  {
   "cell_type": "code",
   "execution_count": null,
   "id": "89b1e74c",
   "metadata": {},
   "outputs": [],
   "source": []
  },
  {
   "cell_type": "code",
   "execution_count": null,
   "id": "2d899a77",
   "metadata": {},
   "outputs": [],
   "source": []
  },
  {
   "cell_type": "code",
   "execution_count": 87,
   "id": "ac0c3c8d",
   "metadata": {},
   "outputs": [
    {
     "data": {
      "text/plain": [
       "tensor([0.2415, 0.2403, 0.2536, 0.2619, 0.2387, 0.2333, 0.2372, 0.2450, 0.2338,\n",
       "        0.2563], dtype=torch.float64, grad_fn=<MvBackward0>)"
      ]
     },
     "execution_count": 87,
     "metadata": {},
     "output_type": "execute_result"
    }
   ],
   "source": [
    "torch.sigmoid(particles) @ weights_torch"
   ]
  },
  {
   "cell_type": "code",
   "execution_count": 116,
   "id": "1640d863",
   "metadata": {},
   "outputs": [
    {
     "data": {
      "text/plain": [
       "[<matplotlib.lines.Line2D at 0x13a1ef430>]"
      ]
     },
     "execution_count": 116,
     "metadata": {},
     "output_type": "execute_result"
    },
    {
     "data": {
      "image/png": "[encoded data removed]",
      "text/plain": [
       "<Figure size 1000x500 with 2 Axes>"
      ]
     },
     "metadata": {},
     "output_type": "display_data"
    }
   ],
   "source": [
    "fig, axs = plt.subplots(1, 2, figsize=(10, 5))\n",
    "\n",
    "axs[0].plot(history)\n",
    "axs[1].plot(rounded_history)"
   ]
  },
  {
   "cell_type": "code",
   "execution_count": 65,
   "id": "4686a815",
   "metadata": {},
   "outputs": [
    {
     "data": {
      "text/plain": [
       "[<matplotlib.lines.Line2D at 0x32031afb0>]"
      ]
     },
     "execution_count": 65,
     "metadata": {},
     "output_type": "execute_result"
    },
    {
     "data": {
      "image/png": "[encoded data removed]",
      "text/plain": [
       "<Figure size 1000x500 with 2 Axes>"
      ]
     },
     "metadata": {},
     "output_type": "display_data"
    }
   ],
   "source": [
    "# 18558.00\n",
    "# 56525.00\n",
    "# 3752.00\n",
    "# 50382.00\n",
    "# 61494.00\n",
    "\n",
    "history.min()\n",
    "\n",
    "capacity\n",
    "\n",
    "z = torch.round(torch.sigmoid(best_particle))\n",
    "z @ weights_torch\n",
    "\n",
    "potential(z.reshape(1, -1))\n",
    "\n",
    "torch.sigmoid(particles) @ weights_torch\n",
    "\n",
    "fig, axs = plt.subplots(1, 2, figsize=(10, 5))\n",
    "\n",
    "axs[0].plot(history)\n",
    "axs[1].plot(rounded_history)"
   ]
  },
  {
   "cell_type": "code",
   "execution_count": null,
   "id": "9c304fc2",
   "metadata": {},
   "outputs": [],
   "source": []
  },
  {
   "cell_type": "code",
   "execution_count": null,
   "id": "3f96c608",
   "metadata": {},
   "outputs": [],
   "source": []
  },
  {
   "cell_type": "code",
   "execution_count": null,
   "id": "20d8d7a6",
   "metadata": {},
   "outputs": [],
   "source": []
  },
  {
   "cell_type": "code",
   "execution_count": null,
   "id": "2e3cc425",
   "metadata": {},
   "outputs": [],
   "source": []
  },
  {
   "cell_type": "code",
   "execution_count": null,
   "id": "a317b61c",
   "metadata": {},
   "outputs": [],
   "source": []
  },
  {
   "cell_type": "code",
   "execution_count": null,
   "id": "f771ac7c",
   "metadata": {},
   "outputs": [],
   "source": []
  },
  {
   "cell_type": "code",
   "execution_count": null,
   "id": "6ce470af",
   "metadata": {},
   "outputs": [],
   "source": []
  },
  {
   "cell_type": "code",
   "execution_count": null,
   "id": "c72b25f2",
   "metadata": {},
   "outputs": [],
   "source": []
  },
  {
   "cell_type": "code",
   "execution_count": null,
   "id": "de07a900",
   "metadata": {},
   "outputs": [],
   "source": []
  },
  {
   "cell_type": "code",
   "execution_count": null,
   "id": "f6bedece",
   "metadata": {},
   "outputs": [],
   "source": []
  },
  {
   "cell_type": "code",
   "execution_count": null,
   "id": "78db7b6c",
   "metadata": {},
   "outputs": [],
   "source": []
  },
  {
   "cell_type": "code",
   "execution_count": null,
   "id": "e47abb3e",
   "metadata": {},
   "outputs": [],
   "source": []
  },
  {
   "cell_type": "code",
   "execution_count": null,
   "id": "e5666980",
   "metadata": {},
   "outputs": [],
   "source": []
  },
  {
   "cell_type": "code",
   "execution_count": null,
   "id": "6c9a2802",
   "metadata": {},
   "outputs": [],
   "source": []
  },
  {
   "cell_type": "code",
   "execution_count": 902,
   "id": "94e502ab",
   "metadata": {},
   "outputs": [],
   "source": [
    "A_torch = torch.tensor(A, dtype=torch.float64)\n",
    "weights_torch = torch.tensor(weights, dtype=torch.float64)"
   ]
  },
  {
   "cell_type": "code",
   "execution_count": 903,
   "id": "c96c884b",
   "metadata": {},
   "outputs": [],
   "source": [
    "potential = lambda x: -torch.einsum('ni,ij,nj->n', x, A_torch, x)\n",
    "isvalid = lambda x: (x @ weights_torch <= capacity) * (x >= 0).all(axis=-1)\n",
    "\n",
    "def regularized_potential(x):\n",
    "    z = torch.sigmoid(particles)\n",
    "    with torch.no_grad():\n",
    "        mask = torch.round(z).to(torch.float64)\n",
    "        # mask = isvalid(torch.round(z)).to(torch.float64)\n",
    "    \n",
    "    vals = potential(z) + torch.log(2 * (1 + torch.cosh(x))).sum(axis=-1)\n",
    "    # return mask * vals \\\n",
    "    #         + 0.1 * (1 - mask) * (torch.max(torch.tensor(0), z @ weights_torch - capacity)) ** 2\n",
    "    return vals + 100 * (torch.max(torch.tensor(0), z @ weights_torch - capacity)) ** 2"
   ]
  },
  {
   "cell_type": "code",
   "execution_count": 904,
   "id": "edd6d693",
   "metadata": {},
   "outputs": [],
   "source": [
    "num_particles = 10\n",
    "particles = np.random.rand(*(num_particles, dim))\n",
    "particles = torch.tensor(-particles - 5, dtype=torch.float64, requires_grad=True)\n",
    "h = 0.01\n",
    "counter = 2"
   ]
  },
  {
   "cell_type": "code",
   "execution_count": 905,
   "id": "f1a43fe9",
   "metadata": {},
   "outputs": [],
   "source": [
    "C = 1e-5 * torch.eye(dim, dtype=torch.float64)"
   ]
  },
  {
   "cell_type": "code",
   "execution_count": 906,
   "id": "d5bbc101",
   "metadata": {},
   "outputs": [
    {
     "data": {
      "text/plain": [
       "2298"
      ]
     },
     "execution_count": 906,
     "metadata": {},
     "output_type": "execute_result"
    }
   ],
   "source": [
    "capacity"
   ]
  },
  {
   "cell_type": "code",
   "execution_count": 907,
   "id": "2b5a99f9",
   "metadata": {},
   "outputs": [
    {
     "data": {
      "text/plain": [
       "tensor([12.9097, 13.0072, 13.1605, 12.8869, 13.1521, 12.8711, 12.4549, 13.2988,\n",
       "        13.1090, 13.4570], dtype=torch.float64, grad_fn=<MvBackward0>)"
      ]
     },
     "execution_count": 907,
     "metadata": {},
     "output_type": "execute_result"
    }
   ],
   "source": [
    "torch.sigmoid(particles) @ weights_torch"
   ]
  },
  {
   "cell_type": "code",
   "execution_count": 916,
   "id": "436eec3f",
   "metadata": {},
   "outputs": [],
   "source": [
    "best_val = np.inf\n",
    "best_particle = None\n",
    "\n",
    "num_iters = 10_000\n",
    "\n",
    "history = torch.zeros(num_iters, dtype=torch.float64)\n",
    "rounded_history = torch.zeros(num_iters, dtype=torch.float64)\n",
    "\n",
    "for i in range(num_iters):\n",
    "    vals = regularized_potential(particles)\n",
    "    vals.sum().backward()\n",
    "    beta = 1 * np.sin(i / 2000) ** 2 + 10\n",
    "    with torch.no_grad():\n",
    "        # C1 = C + 1e-5 * torch.eye(dim, dtype=torch.float64)\n",
    "        # sqrt_C1 = torch.linalg.cholesky(C1, upper=False)\n",
    "        \n",
    "        # particles += -particles.grad @ C1 * h + np.sqrt(2 * h / beta) * torch.randn_like(particles) @ sqrt_C1\n",
    "        particles += -particles.grad * h + np.sqrt(2 * h / beta) * torch.randn_like(particles)\n",
    "        torch.clip(particles, min=-10, max=10, out=particles)\n",
    "        \n",
    "        z = torch.sigmoid(particles)\n",
    "        rounded_z = torch.round(z)\n",
    "        mask = isvalid(rounded_z)\n",
    "        \n",
    "        if mask.sum() > 0:\n",
    "            rounded_vals = potential(rounded_z[mask])\n",
    "            rounded_history[i] = rounded_vals.min()\n",
    "        else:\n",
    "            rounded_history[i] = best_val\n",
    "        \n",
    "        history[i] = vals.min()\n",
    "        C = (1 - 0.1 / counter) * C + (0.1 / counter) * covariance(particles)\n",
    "        \n",
    "        if rounded_history[i] < best_val:\n",
    "            jj = torch.argmin(rounded_vals)\n",
    "            best_particle = particles[mask][jj].detach().clone()\n",
    "            best_val = rounded_history[i]\n",
    "    \n",
    "    counter += 1\n",
    "    particles.grad.zero_()"
   ]
  },
  {
   "cell_type": "code",
   "execution_count": 917,
   "id": "8b95dd88",
   "metadata": {},
   "outputs": [],
   "source": [
    "# 18558.00\n",
    "# 56525.00\n",
    "# 3752.00\n",
    "# 50382.00\n",
    "# 61494.00"
   ]
  },
  {
   "cell_type": "code",
   "execution_count": 918,
   "id": "20b2f9d4",
   "metadata": {},
   "outputs": [
    {
     "data": {
      "text/plain": [
       "tensor(-48079.8665, dtype=torch.float64)"
      ]
     },
     "execution_count": 918,
     "metadata": {},
     "output_type": "execute_result"
    }
   ],
   "source": [
    "history.min()"
   ]
  },
  {
   "cell_type": "code",
   "execution_count": 919,
   "id": "7ca1748b",
   "metadata": {},
   "outputs": [
    {
     "data": {
      "text/plain": [
       "2298"
      ]
     },
     "execution_count": 919,
     "metadata": {},
     "output_type": "execute_result"
    }
   ],
   "source": [
    "capacity"
   ]
  },
  {
   "cell_type": "code",
   "execution_count": 920,
   "id": "e524e9e1",
   "metadata": {},
   "outputs": [
    {
     "data": {
      "text/plain": [
       "tensor(2292., dtype=torch.float64)"
      ]
     },
     "execution_count": 920,
     "metadata": {},
     "output_type": "execute_result"
    }
   ],
   "source": [
    "z = torch.round(torch.sigmoid(best_particle))\n",
    "z @ weights_torch"
   ]
  },
  {
   "cell_type": "code",
   "execution_count": 921,
   "id": "0aa5b883",
   "metadata": {},
   "outputs": [
    {
     "data": {
      "text/plain": [
       "tensor([-48613.], dtype=torch.float64)"
      ]
     },
     "execution_count": 921,
     "metadata": {},
     "output_type": "execute_result"
    }
   ],
   "source": [
    "potential(z.reshape(1, -1))"
   ]
  },
  {
   "cell_type": "code",
   "execution_count": 922,
   "id": "d340caf7",
   "metadata": {},
   "outputs": [
    {
     "data": {
      "text/plain": [
       "tensor([2287.3742, 2289.8015, 2288.4208, 2293.0957, 2298.2985, 2298.2066,\n",
       "        2290.9999, 2291.8790, 2293.0005, 2292.0239], dtype=torch.float64,\n",
       "       grad_fn=<MvBackward0>)"
      ]
     },
     "execution_count": 922,
     "metadata": {},
     "output_type": "execute_result"
    }
   ],
   "source": [
    "torch.sigmoid(particles) @ weights_torch"
   ]
  },
  {
   "cell_type": "code",
   "execution_count": 923,
   "id": "6a40b690",
   "metadata": {},
   "outputs": [
    {
     "data": {
      "text/plain": [
       "[<matplotlib.lines.Line2D at 0x30edb6a10>]"
      ]
     },
     "execution_count": 923,
     "metadata": {},
     "output_type": "execute_result"
    },
    {
     "data": {
      "image/png": "[encoded data removed]",
      "text/plain": [
       "<Figure size 1000x500 with 2 Axes>"
      ]
     },
     "metadata": {},
     "output_type": "display_data"
    }
   ],
   "source": [
    "fig, axs = plt.subplots(1, 2, figsize=(10, 5))\n",
    "\n",
    "axs[0].plot(history)\n",
    "axs[1].plot(rounded_history)"
   ]
  },
  {
   "cell_type": "code",
   "execution_count": null,
   "id": "ec6952df",
   "metadata": {},
   "outputs": [],
   "source": []
  },
  {
   "cell_type": "code",
   "execution_count": null,
   "id": "5dc1addc",
   "metadata": {},
   "outputs": [],
   "source": []
  },
  {
   "cell_type": "code",
   "execution_count": null,
   "id": "3d6e9755",
   "metadata": {},
   "outputs": [],
   "source": []
  },
  {
   "cell_type": "code",
   "execution_count": null,
   "id": "4f2af6d0",
   "metadata": {},
   "outputs": [],
   "source": []
  }
 ],
 "metadata": {
  "kernelspec": {
   "display_name": "Python 3 (ipykernel)",
   "language": "python",
   "name": "python3"
  },
  "language_info": {
   "codemirror_mode": {
    "name": "ipython",
    "version": 3
   },
   "file_extension": ".py",
   "mimetype": "text/x-python",
   "name": "python",
   "nbconvert_exporter": "python",
   "pygments_lexer": "ipython3",
   "version": "3.10.6"
  }
 },
 "nbformat": 4,
 "nbformat_minor": 5
}
